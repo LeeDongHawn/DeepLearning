{
 "cells": [
  {
   "cell_type": "code",
   "execution_count": 2,
   "metadata": {},
   "outputs": [
    {
     "name": "stdout",
     "output_type": "stream",
     "text": [
      "Extracting MNIST_data/train-images-idx3-ubyte.gz\n",
      "Extracting MNIST_data/train-labels-idx1-ubyte.gz\n",
      "Extracting MNIST_data/t10k-images-idx3-ubyte.gz\n",
      "Extracting MNIST_data/t10k-labels-idx1-ubyte.gz\n",
      "Epoch: 0001, Cost: 2.499710363\n",
      "Epoch: 0002, Cost: 1.014929564\n",
      "Epoch: 0003, Cost: 0.819618729\n",
      "Epoch: 0004, Cost: 0.725520063\n",
      "Epoch: 0005, Cost: 0.666298354\n",
      "Epoch: 0006, Cost: 0.624030611\n",
      "Epoch: 0007, Cost: 0.592568187\n",
      "Epoch: 0008, Cost: 0.566913215\n",
      "Epoch: 0009, Cost: 0.546103549\n",
      "Epoch: 0010, Cost: 0.527454091\n",
      "Epoch: 0011, Cost: 0.512266534\n",
      "Epoch: 0012, Cost: 0.498765874\n",
      "Epoch: 0013, Cost: 0.486155843\n",
      "Epoch: 0014, Cost: 0.475405777\n",
      "Epoch: 0015, Cost: 0.465587660\n",
      "Learning finished\n",
      "Accuracy:  0.8876\n",
      "Label:  [0]\n",
      "Prediction:  [3]\n"
     ]
    },
    {
     "data": {
      "image/png": "[encoded data removed]",
      "text/plain": [
       "<Figure size 432x288 with 1 Axes>"
      ]
     },
     "metadata": {
      "needs_background": "light"
     },
     "output_type": "display_data"
    },
    {
     "data": {
      "text/plain": [
       "'\\nEpoch: 0001, Cost: 2.826302672\\nEpoch: 0002, Cost: 1.061668952\\nEpoch: 0003, Cost: 0.838061315\\nEpoch: 0004, Cost: 0.733232745\\nEpoch: 0005, Cost: 0.669279885\\nEpoch: 0006, Cost: 0.624611836\\nEpoch: 0007, Cost: 0.591160344\\nEpoch: 0008, Cost: 0.563868987\\nEpoch: 0009, Cost: 0.541745171\\nEpoch: 0010, Cost: 0.522673578\\nEpoch: 0011, Cost: 0.506782325\\nEpoch: 0012, Cost: 0.492447643\\nEpoch: 0013, Cost: 0.479955837\\nEpoch: 0014, Cost: 0.468893674\\nEpoch: 0015, Cost: 0.458703488\\nLearning finished\\nAccuracy:  0.8951\\n'"
      ]
     },
     "execution_count": 2,
     "metadata": {},
     "output_type": "execute_result"
    }
   ],
   "source": [
    "# Lab 7 Learning rate and Evaluation\n",
    "import tensorflow as tf\n",
    "import matplotlib.pyplot as plt\n",
    "import random\n",
    "from tensorflow.examples.tutorials.mnist import input_data\n",
    "\n",
    "# Check out https://www.tensorflow.org/get_started/mnist/beginners for\n",
    "# more information about the mnist dataset\n",
    "mnist = input_data.read_data_sets(\"MNIST_data/\", one_hot=True)\n",
    "\n",
    "nb_classes = 10\n",
    "\n",
    "# MNIST data image of shape 28 * 28 = 784\n",
    "X = tf.placeholder(tf.float32, [None, 784])\n",
    "# 0 - 9 digits recognition = 10 classes\n",
    "Y = tf.placeholder(tf.float32, [None, nb_classes])\n",
    "# X = 784, y = class\n",
    "W = tf.Variable(tf.random_normal([784, nb_classes]))\n",
    "b = tf.Variable(tf.random_normal([nb_classes]))\n",
    "\n",
    "# Hypothesis (using softmax)\n",
    "hypothesis = tf.nn.softmax(tf.matmul(X, W) + b)\n",
    "\n",
    "cost = tf.reduce_mean(-tf.reduce_sum(Y * tf.log(hypothesis), axis=1))\n",
    "train = tf.train.GradientDescentOptimizer(learning_rate=0.1).minimize(cost)\n",
    "\n",
    "# Test model\n",
    "is_correct = tf.equal(tf.argmax(hypothesis, 1), tf.argmax(Y, 1))\n",
    "# Calculate accuracy\n",
    "accuracy = tf.reduce_mean(tf.cast(is_correct, tf.float32))\n",
    "\n",
    "# parameters\n",
    "num_epochs = 15\n",
    "batch_size = 100\n",
    "num_iterations = int(mnist.train.num_examples / batch_size)\n",
    "\n",
    "with tf.Session() as sess:\n",
    "    # Initialize TensorFlow variables\n",
    "    sess.run(tf.global_variables_initializer())\n",
    "    # Training cycle\n",
    "    for epoch in range(num_epochs):\n",
    "        avg_cost = 0\n",
    "\n",
    "        for i in range(num_iterations):\n",
    "            batch_xs, batch_ys = mnist.train.next_batch(batch_size)\n",
    "            _, cost_val = sess.run([train, cost], feed_dict={X: batch_xs, Y: batch_ys})\n",
    "            avg_cost += cost_val / num_iterations\n",
    "\n",
    "        print(\"Epoch: {:04d}, Cost: {:.9f}\".format(epoch + 1, avg_cost))\n",
    "\n",
    "    print(\"Learning finished\")\n",
    "\n",
    "    # Test the model using test sets\n",
    "    print(\n",
    "        \"Accuracy: \",\n",
    "        accuracy.eval(\n",
    "            session=sess, feed_dict={X: mnist.test.images, Y: mnist.test.labels}\n",
    "        ),\n",
    "    )\n",
    "\n",
    "    # Get one and predict\n",
    "    r = random.randint(0, mnist.test.num_examples - 1)\n",
    "    print(\"Label: \", sess.run(tf.argmax(mnist.test.labels[r : r + 1], 1)))\n",
    "    print(\n",
    "        \"Prediction: \",\n",
    "        sess.run(tf.argmax(hypothesis, 1), feed_dict={X: mnist.test.images[r : r + 1]}),\n",
    "    )\n",
    "\n",
    "    plt.imshow(\n",
    "        mnist.test.images[r : r + 1].reshape(28, 28),\n",
    "        cmap=\"Greys\",\n",
    "        interpolation=\"nearest\",\n",
    "    )\n",
    "    plt.show()\n",
    "\n",
    "\n",
    "'''\n",
    "Epoch: 0001, Cost: 2.826302672\n",
    "Epoch: 0002, Cost: 1.061668952\n",
    "Epoch: 0003, Cost: 0.838061315\n",
    "Epoch: 0004, Cost: 0.733232745\n",
    "Epoch: 0005, Cost: 0.669279885\n",
    "Epoch: 0006, Cost: 0.624611836\n",
    "Epoch: 0007, Cost: 0.591160344\n",
    "Epoch: 0008, Cost: 0.563868987\n",
    "Epoch: 0009, Cost: 0.541745171\n",
    "Epoch: 0010, Cost: 0.522673578\n",
    "Epoch: 0011, Cost: 0.506782325\n",
    "Epoch: 0012, Cost: 0.492447643\n",
    "Epoch: 0013, Cost: 0.479955837\n",
    "Epoch: 0014, Cost: 0.468893674\n",
    "Epoch: 0015, Cost: 0.458703488\n",
    "Learning finished\n",
    "Accuracy:  0.8951\n",
    "'''"
   ]
  }
 ],
 "metadata": {
  "kernelspec": {
   "display_name": "Python 3",
   "language": "python",
   "name": "python3"
  },
  "language_info": {
   "codemirror_mode": {
    "name": "ipython",
    "version": 3
   },
   "file_extension": ".py",
   "mimetype": "text/x-python",
   "name": "python",
   "nbconvert_exporter": "python",
   "pygments_lexer": "ipython3",
   "version": "3.7.4"
  }
 },
 "nbformat": 4,
 "nbformat_minor": 2
}
