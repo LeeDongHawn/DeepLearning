{
 "cells": [
  {
   "cell_type": "code",
   "execution_count": 3,
   "metadata": {},
   "outputs": [
    {
     "name": "stderr",
     "output_type": "stream",
     "text": [
      "C:\\Users\\User\\Anaconda3\\envs\\test\\lib\\site-packages\\tensorflow\\python\\framework\\dtypes.py:516: FutureWarning: Passing (type, 1) or '1type' as a synonym of type is deprecated; in a future version of numpy, it will be understood as (type, (1,)) / '(1,)type'.\n",
      "  _np_qint8 = np.dtype([(\"qint8\", np.int8, 1)])\n",
      "C:\\Users\\User\\Anaconda3\\envs\\test\\lib\\site-packages\\tensorflow\\python\\framework\\dtypes.py:517: FutureWarning: Passing (type, 1) or '1type' as a synonym of type is deprecated; in a future version of numpy, it will be understood as (type, (1,)) / '(1,)type'.\n",
      "  _np_quint8 = np.dtype([(\"quint8\", np.uint8, 1)])\n",
      "C:\\Users\\User\\Anaconda3\\envs\\test\\lib\\site-packages\\tensorflow\\python\\framework\\dtypes.py:518: FutureWarning: Passing (type, 1) or '1type' as a synonym of type is deprecated; in a future version of numpy, it will be understood as (type, (1,)) / '(1,)type'.\n",
      "  _np_qint16 = np.dtype([(\"qint16\", np.int16, 1)])\n",
      "C:\\Users\\User\\Anaconda3\\envs\\test\\lib\\site-packages\\tensorflow\\python\\framework\\dtypes.py:519: FutureWarning: Passing (type, 1) or '1type' as a synonym of type is deprecated; in a future version of numpy, it will be understood as (type, (1,)) / '(1,)type'.\n",
      "  _np_quint16 = np.dtype([(\"quint16\", np.uint16, 1)])\n",
      "C:\\Users\\User\\Anaconda3\\envs\\test\\lib\\site-packages\\tensorflow\\python\\framework\\dtypes.py:520: FutureWarning: Passing (type, 1) or '1type' as a synonym of type is deprecated; in a future version of numpy, it will be understood as (type, (1,)) / '(1,)type'.\n",
      "  _np_qint32 = np.dtype([(\"qint32\", np.int32, 1)])\n",
      "C:\\Users\\User\\Anaconda3\\envs\\test\\lib\\site-packages\\tensorflow\\python\\framework\\dtypes.py:525: FutureWarning: Passing (type, 1) or '1type' as a synonym of type is deprecated; in a future version of numpy, it will be understood as (type, (1,)) / '(1,)type'.\n",
      "  np_resource = np.dtype([(\"resource\", np.ubyte, 1)])\n"
     ]
    },
    {
     "name": "stdout",
     "output_type": "stream",
     "text": [
      "1 Physical CPU, 1 Logical CPU\n"
     ]
    },
    {
     "name": "stderr",
     "output_type": "stream",
     "text": [
      "C:\\Users\\User\\Anaconda3\\envs\\test\\lib\\site-packages\\tensorboard\\compat\\tensorflow_stub\\dtypes.py:541: FutureWarning: Passing (type, 1) or '1type' as a synonym of type is deprecated; in a future version of numpy, it will be understood as (type, (1,)) / '(1,)type'.\n",
      "  _np_qint8 = np.dtype([(\"qint8\", np.int8, 1)])\n",
      "C:\\Users\\User\\Anaconda3\\envs\\test\\lib\\site-packages\\tensorboard\\compat\\tensorflow_stub\\dtypes.py:542: FutureWarning: Passing (type, 1) or '1type' as a synonym of type is deprecated; in a future version of numpy, it will be understood as (type, (1,)) / '(1,)type'.\n",
      "  _np_quint8 = np.dtype([(\"quint8\", np.uint8, 1)])\n",
      "C:\\Users\\User\\Anaconda3\\envs\\test\\lib\\site-packages\\tensorboard\\compat\\tensorflow_stub\\dtypes.py:543: FutureWarning: Passing (type, 1) or '1type' as a synonym of type is deprecated; in a future version of numpy, it will be understood as (type, (1,)) / '(1,)type'.\n",
      "  _np_qint16 = np.dtype([(\"qint16\", np.int16, 1)])\n",
      "C:\\Users\\User\\Anaconda3\\envs\\test\\lib\\site-packages\\tensorboard\\compat\\tensorflow_stub\\dtypes.py:544: FutureWarning: Passing (type, 1) or '1type' as a synonym of type is deprecated; in a future version of numpy, it will be understood as (type, (1,)) / '(1,)type'.\n",
      "  _np_quint16 = np.dtype([(\"quint16\", np.uint16, 1)])\n",
      "C:\\Users\\User\\Anaconda3\\envs\\test\\lib\\site-packages\\tensorboard\\compat\\tensorflow_stub\\dtypes.py:545: FutureWarning: Passing (type, 1) or '1type' as a synonym of type is deprecated; in a future version of numpy, it will be understood as (type, (1,)) / '(1,)type'.\n",
      "  _np_qint32 = np.dtype([(\"qint32\", np.int32, 1)])\n",
      "C:\\Users\\User\\Anaconda3\\envs\\test\\lib\\site-packages\\tensorboard\\compat\\tensorflow_stub\\dtypes.py:550: FutureWarning: Passing (type, 1) or '1type' as a synonym of type is deprecated; in a future version of numpy, it will be understood as (type, (1,)) / '(1,)type'.\n",
      "  np_resource = np.dtype([(\"resource\", np.ubyte, 1)])\n"
     ]
    }
   ],
   "source": [
    "# Lab 7 Learning rate and Evaluation\n",
    "import tensorflow as tf\n",
    "import os\n",
    "\n",
    "os.environ['TF_CPP_MIN_LOG_LEVEL'] = '3'\n",
    "os.environ[\"CUDA_DEVICE_ORDER\"] = \"PCI_BUS_ID\"\n",
    "os.environ[\"CUDA_VISIBLE_DEVICES\"] = '0' # Set to -1 if CPU should be used CPU = -1 , GPU = 0\n",
    "\n",
    "gpus = tf.config.experimental.list_physical_devices('GPU')\n",
    "cpus = tf.config.experimental.list_physical_devices('CPU')\n",
    "\n",
    "if gpus:\n",
    "    try:\n",
    "        # Currently, memory growth needs to be the same across GPUs\n",
    "        for gpu in gpus:\n",
    "            tf.config.experimental.set_memory_growth(gpu, True)\n",
    "        logical_gpus = tf.config.experimental.list_logical_devices('GPU')\n",
    "        print(len(gpus), \"Physical GPUs,\", len(logical_gpus), \"Logical GPUs\")\n",
    "    except RuntimeError as e:\n",
    "        # Memory growth must be set before GPUs have been initialized\n",
    "        print(e)\n",
    "elif cpus:\n",
    "    try:\n",
    "        # Currently, memory growth needs to be the same across GPUs\n",
    "        logical_cpus= tf.config.experimental.list_logical_devices('CPU')\n",
    "        print(len(cpus), \"Physical CPU,\", len(logical_cpus), \"Logical CPU\")\n",
    "    except RuntimeError as e:\n",
    "        # Memory growth must be set before GPUs have been initialized\n",
    "        print(e)"
   ]
  },
  {
   "cell_type": "code",
   "execution_count": 4,
   "metadata": {},
   "outputs": [
    {
     "name": "stdout",
     "output_type": "stream",
     "text": [
      "(60000, 28, 28)\n",
      "(60000, 784)\n"
     ]
    }
   ],
   "source": [
    "learning_rate = 0.001\n",
    "batch_size = 100\n",
    "training_epochs = 15\n",
    "nb_classes = 10\n",
    "\n",
    "mnist = tf.keras.datasets.mnist\n",
    "\n",
    "# read dataset\n",
    "(x_train, y_train), (x_test, y_test) = mnist.load_data()\n",
    "# normalizing data\n",
    "x_train, x_test = x_train / 255.0, x_test / 255.0\n",
    "\n",
    "# change data shape\n",
    "print(x_train.shape)  # (60000, 28, 28)\n",
    "x_train = x_train.reshape(x_train.shape[0], x_train.shape[1] * x_train.shape[2])\n",
    "x_test = x_test.reshape(x_test.shape[0], x_test.shape[1] * x_test.shape[2])\n",
    "print(x_train.shape)  # (60000, 784)\n",
    "\n",
    "# change result to one-hot encoding\n",
    "# in tf1, one_hot= True in read_data_sets(\"MNIST_data/\", one_hot=True)\n",
    "# took care of it, but here we need to manually convert them\n",
    "y_train = tf.keras.utils.to_categorical(y_train, 10)\n",
    "y_test = tf.keras.utils.to_categorical(y_test, 10)\n",
    "\n",
    "# # Consider an array of 5 labels out of a set of 3 classes {0, 1, 2}:\n",
    "# array([0, 2, 1, 2, 0])\n",
    "# `to_categorical` converts this into a matrix with as many columns as there are classes. The number of rows\n",
    "#  stays the same. to_categorical(labels)\n",
    "# array([[ 1.,  0.,  0.],\n",
    "#        [ 0.,  0.,  1.],\n",
    "#        [ 0.,  1.,  0.],\n",
    "#        [ 0.,  0.,  1.],\n",
    "#        [ 1.,  0.,  0.]], dtype=float32)"
   ]
  },
  {
   "cell_type": "code",
   "execution_count": 5,
   "metadata": {},
   "outputs": [
    {
     "name": "stdout",
     "output_type": "stream",
     "text": [
      "WARNING:tensorflow:From C:\\Users\\User\\Anaconda3\\envs\\test\\lib\\site-packages\\tensorflow\\python\\ops\\init_ops.py:1251: calling VarianceScaling.__init__ (from tensorflow.python.ops.init_ops) with dtype is deprecated and will be removed in a future version.\n",
      "Instructions for updating:\n",
      "Call initializer instance with the dtype argument instead of passing it to the constructor\n",
      "Model: \"sequential\"\n",
      "_________________________________________________________________\n",
      "Layer (type)                 Output Shape              Param #   \n",
      "=================================================================\n",
      "dense (Dense)                (None, 10)                7850      \n",
      "=================================================================\n",
      "Total params: 7,850\n",
      "Trainable params: 7,850\n",
      "Non-trainable params: 0\n",
      "_________________________________________________________________\n"
     ]
    }
   ],
   "source": [
    "# create model\n",
    "tf.model = tf.keras.Sequential()\n",
    "tf.model.add(tf.keras.layers.Dense(units=10, input_dim=784, activation='softmax'))\n",
    "tf.model.compile(loss='categorical_crossentropy', optimizer=tf.keras.optimizers.Adam(0.001), metrics=['accuracy'])\n",
    "tf.model.summary()"
   ]
  },
  {
   "cell_type": "code",
   "execution_count": 6,
   "metadata": {},
   "outputs": [
    {
     "name": "stdout",
     "output_type": "stream",
     "text": [
      "Epoch 1/15\n",
      "60000/60000 [==============================] - 1s 10us/sample - loss: 0.6329 - acc: 0.8397\n",
      "Epoch 2/15\n",
      "60000/60000 [==============================] - 1s 9us/sample - loss: 0.3476 - acc: 0.9057\n",
      "Epoch 3/15\n",
      "60000/60000 [==============================] - 1s 9us/sample - loss: 0.3101 - acc: 0.9140\n",
      "Epoch 4/15\n",
      "60000/60000 [==============================] - 1s 9us/sample - loss: 0.2925 - acc: 0.9183\n",
      "Epoch 5/15\n",
      "60000/60000 [==============================] - 1s 9us/sample - loss: 0.2820 - acc: 0.9216\n",
      "Epoch 6/15\n",
      "60000/60000 [==============================] - 1s 9us/sample - loss: 0.2749 - acc: 0.9230\n",
      "Epoch 7/15\n",
      "60000/60000 [==============================] - 1s 9us/sample - loss: 0.2696 - acc: 0.9247\n",
      "Epoch 8/15\n",
      "60000/60000 [==============================] - 1s 9us/sample - loss: 0.2655 - acc: 0.9261\n",
      "Epoch 9/15\n",
      "60000/60000 [==============================] - 1s 9us/sample - loss: 0.2623 - acc: 0.9270\n",
      "Epoch 10/15\n",
      "60000/60000 [==============================] - 1s 9us/sample - loss: 0.2594 - acc: 0.9275\n",
      "Epoch 11/15\n",
      "60000/60000 [==============================] - 1s 9us/sample - loss: 0.2569 - acc: 0.9279\n",
      "Epoch 12/15\n",
      "60000/60000 [==============================] - 1s 9us/sample - loss: 0.2546 - acc: 0.9290\n",
      "Epoch 13/15\n",
      "60000/60000 [==============================] - 1s 10us/sample - loss: 0.2530 - acc: 0.9291\n",
      "Epoch 14/15\n",
      "60000/60000 [==============================] - 1s 9us/sample - loss: 0.2510 - acc: 0.9303\n",
      "Epoch 15/15\n",
      "60000/60000 [==============================] - 1s 9us/sample - loss: 0.2496 - acc: 0.9310\n"
     ]
    }
   ],
   "source": [
    "# fit() : 모델 훈련 시 사용\n",
    "history = tf.model.fit(x_train, y_train, batch_size=batch_size, epochs=training_epochs)"
   ]
  },
  {
   "cell_type": "code",
   "execution_count": 7,
   "metadata": {},
   "outputs": [
    {
     "name": "stdout",
     "output_type": "stream",
     "text": [
      "Prediction: \n",
      " [[2.4535198e-06 1.4494586e-11 6.5249042e-06 ... 9.9386853e-01\n",
      "  2.7471397e-05 4.2928298e-04]\n",
      " [3.6248166e-04 3.1665863e-06 9.8927069e-01 ... 1.3115146e-17\n",
      "  1.0469656e-04 6.5140391e-14]\n",
      " [2.1489136e-06 9.7785509e-01 1.2412070e-02 ... 8.9191762e-04\n",
      "  4.0423363e-03 2.6982246e-04]\n",
      " ...\n",
      " [1.5336317e-08 6.4718204e-09 3.5693017e-06 ... 1.3262597e-03\n",
      "  7.1075223e-03 1.6682748e-02]\n",
      " [2.0671240e-07 2.6507715e-07 1.8153933e-07 ... 1.6548951e-07\n",
      "  1.1618507e-02 1.6100297e-07]\n",
      " [1.0282084e-06 2.6198787e-14 2.9344545e-05 ... 6.0666717e-13\n",
      "  3.9629001e-08 2.9417729e-11]]\n",
      "60000/60000 [==============================] - 1s 11us/sample - loss: 0.2465 - acc: 0.9319\n",
      "Accuracy:  0.93186665\n"
     ]
    }
   ],
   "source": [
    "# predict() : 임의의 입력에 대한 모델의 출력값을 확인한다.\n",
    "predictions = tf.model.predict(x_test)\n",
    "print('Prediction: \\n', predictions)\n",
    "x_train\n",
    "# evaluate() : 테스트 데이터를 통해 학습한 모델에 대한 정확도를 평가한다.\n",
    "score = tf.model.evaluate(x_train, y_train)\n",
    "print('Accuracy: ', score[1])"
   ]
  }
 ],
 "metadata": {
  "kernelspec": {
   "display_name": "test",
   "language": "python",
   "name": "test"
  },
  "language_info": {
   "codemirror_mode": {
    "name": "ipython",
    "version": 3
   },
   "file_extension": ".py",
   "mimetype": "text/x-python",
   "name": "python",
   "nbconvert_exporter": "python",
   "pygments_lexer": "ipython3",
   "version": "3.7.7"
  }
 },
 "nbformat": 4,
 "nbformat_minor": 4
}
