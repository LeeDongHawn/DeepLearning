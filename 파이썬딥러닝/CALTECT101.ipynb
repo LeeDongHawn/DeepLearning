{
 "cells": [
  {
   "cell_type": "markdown",
   "metadata": {},
   "source": [
    "# CALTECH101 데이터셋 분류하기\n",
    "## 데이터셋 구성\n",
    "# CALETECH101.zip\n",
    "## accordion\n",
    "### - image_0001.jpg\n",
    "### - image_0002.jpg\n",
    "## airplanes\n",
    "### - image_0001.jpg\n",
    "### - image_0002.jpg\n",
    "..."
   ]
  },
  {
   "cell_type": "code",
   "execution_count": 1,
   "metadata": {},
   "outputs": [
    {
     "name": "stderr",
     "output_type": "stream",
     "text": [
      "C:\\Users\\User\\Anaconda3\\envs\\test\\lib\\site-packages\\tensorflow\\python\\framework\\dtypes.py:516: FutureWarning: Passing (type, 1) or '1type' as a synonym of type is deprecated; in a future version of numpy, it will be understood as (type, (1,)) / '(1,)type'.\n",
      "  _np_qint8 = np.dtype([(\"qint8\", np.int8, 1)])\n",
      "C:\\Users\\User\\Anaconda3\\envs\\test\\lib\\site-packages\\tensorflow\\python\\framework\\dtypes.py:517: FutureWarning: Passing (type, 1) or '1type' as a synonym of type is deprecated; in a future version of numpy, it will be understood as (type, (1,)) / '(1,)type'.\n",
      "  _np_quint8 = np.dtype([(\"quint8\", np.uint8, 1)])\n",
      "C:\\Users\\User\\Anaconda3\\envs\\test\\lib\\site-packages\\tensorflow\\python\\framework\\dtypes.py:518: FutureWarning: Passing (type, 1) or '1type' as a synonym of type is deprecated; in a future version of numpy, it will be understood as (type, (1,)) / '(1,)type'.\n",
      "  _np_qint16 = np.dtype([(\"qint16\", np.int16, 1)])\n",
      "C:\\Users\\User\\Anaconda3\\envs\\test\\lib\\site-packages\\tensorflow\\python\\framework\\dtypes.py:519: FutureWarning: Passing (type, 1) or '1type' as a synonym of type is deprecated; in a future version of numpy, it will be understood as (type, (1,)) / '(1,)type'.\n",
      "  _np_quint16 = np.dtype([(\"quint16\", np.uint16, 1)])\n",
      "C:\\Users\\User\\Anaconda3\\envs\\test\\lib\\site-packages\\tensorflow\\python\\framework\\dtypes.py:520: FutureWarning: Passing (type, 1) or '1type' as a synonym of type is deprecated; in a future version of numpy, it will be understood as (type, (1,)) / '(1,)type'.\n",
      "  _np_qint32 = np.dtype([(\"qint32\", np.int32, 1)])\n",
      "C:\\Users\\User\\Anaconda3\\envs\\test\\lib\\site-packages\\tensorflow\\python\\framework\\dtypes.py:525: FutureWarning: Passing (type, 1) or '1type' as a synonym of type is deprecated; in a future version of numpy, it will be understood as (type, (1,)) / '(1,)type'.\n",
      "  np_resource = np.dtype([(\"resource\", np.ubyte, 1)])\n"
     ]
    },
    {
     "name": "stdout",
     "output_type": "stream",
     "text": [
      "1 Physical CPU, 1 Logical CPU\n"
     ]
    },
    {
     "name": "stderr",
     "output_type": "stream",
     "text": [
      "C:\\Users\\User\\Anaconda3\\envs\\test\\lib\\site-packages\\tensorboard\\compat\\tensorflow_stub\\dtypes.py:541: FutureWarning: Passing (type, 1) or '1type' as a synonym of type is deprecated; in a future version of numpy, it will be understood as (type, (1,)) / '(1,)type'.\n",
      "  _np_qint8 = np.dtype([(\"qint8\", np.int8, 1)])\n",
      "C:\\Users\\User\\Anaconda3\\envs\\test\\lib\\site-packages\\tensorboard\\compat\\tensorflow_stub\\dtypes.py:542: FutureWarning: Passing (type, 1) or '1type' as a synonym of type is deprecated; in a future version of numpy, it will be understood as (type, (1,)) / '(1,)type'.\n",
      "  _np_quint8 = np.dtype([(\"quint8\", np.uint8, 1)])\n",
      "C:\\Users\\User\\Anaconda3\\envs\\test\\lib\\site-packages\\tensorboard\\compat\\tensorflow_stub\\dtypes.py:543: FutureWarning: Passing (type, 1) or '1type' as a synonym of type is deprecated; in a future version of numpy, it will be understood as (type, (1,)) / '(1,)type'.\n",
      "  _np_qint16 = np.dtype([(\"qint16\", np.int16, 1)])\n",
      "C:\\Users\\User\\Anaconda3\\envs\\test\\lib\\site-packages\\tensorboard\\compat\\tensorflow_stub\\dtypes.py:544: FutureWarning: Passing (type, 1) or '1type' as a synonym of type is deprecated; in a future version of numpy, it will be understood as (type, (1,)) / '(1,)type'.\n",
      "  _np_quint16 = np.dtype([(\"quint16\", np.uint16, 1)])\n",
      "C:\\Users\\User\\Anaconda3\\envs\\test\\lib\\site-packages\\tensorboard\\compat\\tensorflow_stub\\dtypes.py:545: FutureWarning: Passing (type, 1) or '1type' as a synonym of type is deprecated; in a future version of numpy, it will be understood as (type, (1,)) / '(1,)type'.\n",
      "  _np_qint32 = np.dtype([(\"qint32\", np.int32, 1)])\n",
      "C:\\Users\\User\\Anaconda3\\envs\\test\\lib\\site-packages\\tensorboard\\compat\\tensorflow_stub\\dtypes.py:550: FutureWarning: Passing (type, 1) or '1type' as a synonym of type is deprecated; in a future version of numpy, it will be understood as (type, (1,)) / '(1,)type'.\n",
      "  np_resource = np.dtype([(\"resource\", np.ubyte, 1)])\n"
     ]
    }
   ],
   "source": [
    "#https://www.pyimagesearch.com/2018/12/31/keras-conv2d-and-convolutional-layers/\n",
    "import tensorflow as tf\n",
    "\n",
    "import os\n",
    "os.environ['TF_CPP_MIN_LOG_LEVEL'] = '3'\n",
    "os.environ[\"CUDA_DEVICE_ORDER\"] = \"PCI_BUS_ID\"\n",
    "os.environ[\"CUDA_VISIBLE_DEVICES\"] = '0' # Set to -1 if CPU should be used CPU = -1 , GPU = 0\n",
    "\n",
    "gpus = tf.config.experimental.list_physical_devices('GPU')\n",
    "cpus = tf.config.experimental.list_physical_devices('CPU')\n",
    "\n",
    "if gpus:\n",
    "    try:\n",
    "        # Currently, memory growth needs to be the same across GPUs\n",
    "        for gpu in gpus:\n",
    "            tf.config.experimental.set_memory_growth(gpu, True)\n",
    "        logical_gpus = tf.config.experimental.list_logical_devices('GPU')\n",
    "        print(len(gpus), \"Physical GPUs,\", len(logical_gpus), \"Logical GPUs\")\n",
    "    except RuntimeError as e:\n",
    "        # Memory growth must be set before GPUs have been initialized\n",
    "        print(e)\n",
    "elif cpus:\n",
    "    try:\n",
    "        # Currently, memory growth needs to be the same across GPUs\n",
    "        logical_cpus= tf.config.experimental.list_logical_devices('CPU')\n",
    "        print(len(cpus), \"Physical CPU,\", len(logical_cpus), \"Logical CPU\")\n",
    "    except RuntimeError as e:\n",
    "        # Memory growth must be set before GPUs have been initialized\n",
    "        print(e)"
   ]
  },
  {
   "cell_type": "code",
   "execution_count": 2,
   "metadata": {},
   "outputs": [
    {
     "name": "stderr",
     "output_type": "stream",
     "text": [
      "Using TensorFlow backend.\n"
     ]
    }
   ],
   "source": [
    "from sklearn.preprocessing import LabelBinarizer\n",
    "from sklearn.model_selection import train_test_split\n",
    "from sklearn.metrics import classification_report\n",
    "from keras.preprocessing.image import ImageDataGenerator\n",
    "from keras.optimizers import Adam\n",
    "from keras.regularizers import l2\n",
    "# pip install imutils\n",
    "from imutils import paths\n",
    "import matplotlib.pyplot as plt\n",
    "import numpy as np\n",
    "import argparse\n",
    "import cv2\n",
    "import os\n",
    "from keras.models import Sequential\n",
    "from keras.layers.normalization import BatchNormalization\n",
    "from keras.layers.convolutional import Conv2D\n",
    "from keras.layers.core import Activation\n",
    "from keras.layers.core import Flatten\n",
    "from keras.layers.core import Dropout\n",
    "from keras.layers.core import Dense\n",
    "from keras import backend as K"
   ]
  },
  {
   "cell_type": "code",
   "execution_count": 3,
   "metadata": {},
   "outputs": [],
   "source": [
    "# StrideNet\n",
    "class StridedNet:\n",
    "\t@staticmethod\n",
    "\tdef build(width, height, depth, classes, reg, init=\"he_normal\"):\n",
    "\t\t# initialize the model along with the input shape to be\n",
    "\t\t# \"channels last\" and the channels dimension itself\n",
    "\t\tmodel = Sequential()\n",
    "\t\tinputShape = (height, width, depth)\n",
    "\t\tchanDim = -1\n",
    "\n",
    "\t\t# if we are using \"channels first\", update the input shape\n",
    "\t\t# and channels dimension\n",
    "\t\tif K.image_data_format() == \"channels_first\":\n",
    "\t\t\tinputShape = (depth, height, width)\n",
    "\t\t\tchanDim = 1\n",
    "\n",
    "\t\t# our first CONV layer will learn a total of 16 filters, each\n",
    "\t\t# Of which are 7x7 -- we'll then apply 2x2 strides to reduce\n",
    "\t\t# the spatial dimensions of the volume\n",
    "\t\tmodel.add(Conv2D(16, (7, 7), strides=(2, 2), padding=\"valid\", kernel_initializer=init, kernel_regularizer=reg, input_shape=inputShape))\n",
    "\n",
    "\t\t# here we stack two CONV layers on top of each other where\n",
    "\t\t# each layerswill learn a total of 32 (3x3) filters\n",
    "\t\tmodel.add(Conv2D(32, (3, 3), padding=\"same\", kernel_initializer=init, kernel_regularizer=reg))\n",
    "\t\tmodel.add(Activation(\"relu\"))\n",
    "\t\tmodel.add(BatchNormalization(axis=chanDim))\n",
    "\t\tmodel.add(Conv2D(32, (3, 3), strides=(2, 2), padding=\"same\", kernel_initializer=init, kernel_regularizer=reg))\n",
    "\t\tmodel.add(Activation(\"relu\"))\n",
    "\t\tmodel.add(BatchNormalization(axis=chanDim))\n",
    "\t\tmodel.add(Dropout(0.25))\n",
    "\n",
    "\t\t# stack two more CONV layers, keeping the size of each filter\n",
    "\t\t# as 3x3 but increasing to 64 total learned filters\n",
    "\t\tmodel.add(Conv2D(64, (3, 3), padding=\"same\", kernel_initializer=init, kernel_regularizer=reg))\n",
    "\t\tmodel.add(Activation(\"relu\"))\n",
    "\t\tmodel.add(BatchNormalization(axis=chanDim))\n",
    "\t\tmodel.add(Conv2D(64, (3, 3), strides=(2, 2), padding=\"same\", kernel_initializer=init, kernel_regularizer=reg))\n",
    "\t\tmodel.add(Activation(\"relu\"))\n",
    "\t\tmodel.add(BatchNormalization(axis=chanDim))\n",
    "\t\tmodel.add(Dropout(0.25))\n",
    "\n",
    "\t\t# increase the number of filters again, this time to 128\n",
    "\t\tmodel.add(Conv2D(128, (3, 3), padding=\"same\", kernel_initializer=init, kernel_regularizer=reg))\n",
    "\t\tmodel.add(Activation(\"relu\"))\n",
    "\t\tmodel.add(BatchNormalization(axis=chanDim))\n",
    "\t\tmodel.add(Conv2D(128, (3, 3), strides=(2, 2), padding=\"same\", kernel_initializer=init, kernel_regularizer=reg))\n",
    "\t\tmodel.add(Activation(\"relu\"))\n",
    "\t\tmodel.add(BatchNormalization(axis=chanDim))\n",
    "\t\tmodel.add(Dropout(0.25))\n",
    "\n",
    "\t\t# fully-connected layer\n",
    "\t\tmodel.add(Flatten())\n",
    "\t\tmodel.add(Dense(512, kernel_initializer=init))\n",
    "\t\tmodel.add(Activation(\"relu\"))\n",
    "\t\tmodel.add(BatchNormalization())\n",
    "\t\tmodel.add(Dropout(0.5))\n",
    "\n",
    "\t\t# softmax classifier\n",
    "\t\tmodel.add(Dense(classes))\n",
    "\t\tmodel.add(Activation(\"softmax\"))\n",
    "\n",
    "\t\t# return the constructed network architecture\n",
    "\t\treturn model"
   ]
  },
  {
   "cell_type": "code",
   "execution_count": 4,
   "metadata": {},
   "outputs": [],
   "source": [
    "# initialize the set of labels from the CALTECH-101 dataset we are\n",
    "# going to train our network on\n",
    "# 다른 카테고리들은 사용하지 않고 아래 4개의 카테고리만 사용할 것임\n",
    "LABELS = set([\"Faces\", \"Leopards\", \"Motorbikes\", \"airplanes\"])"
   ]
  },
  {
   "cell_type": "code",
   "execution_count": 5,
   "metadata": {},
   "outputs": [
    {
     "name": "stdout",
     "output_type": "stream",
     "text": [
      "[INFO] loading images...\n"
     ]
    }
   ],
   "source": [
    "#imagedir = 'CALTECH101_ObjectCategories'\n",
    "imagefilename = 'D:/파이썬딥러닝/PyImageSearchDeepLearning.vol1/CALTECH101_ObjectCategories.zip'\n",
    "import zipfile\n",
    "print(\"[INFO] loading images...\")\n",
    "#imagePaths = list(paths.list_images(imagedir))\n",
    "zf = zipfile.ZipFile(imagefilename)\n",
    "imagelist = zf.namelist()\n",
    "data = []\n",
    "labels = []\n",
    "\n",
    "# print(imagelist) - zip안에 있는 카테고리/이미지이름.jpg로 구성됨"
   ]
  },
  {
   "cell_type": "code",
   "execution_count": 6,
   "metadata": {},
   "outputs": [],
   "source": [
    "# zip안에 있는 카테고리/이미지이름.jpg로 구성된 list에서\n",
    "\n",
    "for imagePath in imagelist:\n",
    "    # 카테고리 이름만 추출함\n",
    "\tlabel = imagePath.split('/')[-2]\n",
    "\n",
    "    # 위에 설정한 LABELS에 속하지 않으면 저장하지 않고 넘어감\n",
    "\tif label not in LABELS:\n",
    "\t\tcontinue\n",
    "\n",
    "    # 해당 LABELS에 속하는 이미지들을\n",
    "\timagedata = zf.read(imagePath)\n",
    "    # unit8로 바꾸고, resize하여 불러옴\n",
    "\timage = cv2.imdecode(np.frombuffer(imagedata, np.uint8), 1)\n",
    "\timage = cv2.resize(image, (96, 96))\n",
    "\n",
    "    # data에는 이미지를 담고(이미지 1개 - labels 1개)\n",
    "\tdata.append(image)\n",
    "    # label에는 label을 담음\n",
    "\tlabels.append(label)\n",
    "    \n",
    "# print(data)\n",
    "# print(labels)"
   ]
  },
  {
   "cell_type": "code",
   "execution_count": 7,
   "metadata": {},
   "outputs": [],
   "source": [
    "# 이미지 pixels [0,1] 범위로 조정\n",
    "data = np.array(data, dtype=\"float\") / 255.0"
   ]
  },
  {
   "cell_type": "code",
   "execution_count": 8,
   "metadata": {},
   "outputs": [],
   "source": [
    "# labels one-hot encoding\n",
    "lb = LabelBinarizer()\n",
    "labels = lb.fit_transform(labels)"
   ]
  },
  {
   "cell_type": "code",
   "execution_count": 9,
   "metadata": {},
   "outputs": [
    {
     "name": "stdout",
     "output_type": "stream",
     "text": [
      "1674\n",
      "559\n",
      "1674\n",
      "559\n"
     ]
    }
   ],
   "source": [
    "# 전체 이미지 data를 trainX, testX로 나누고,\n",
    "# 전체 Label를 trainY, testY로 나눔\n",
    "# train : 0.75%, test : 0.25%\n",
    "(trainX, testX, trainY, testY) = train_test_split(data, labels, test_size=0.25, stratify=labels, random_state=42)\n",
    "print(len(trainX))\n",
    "print(len(testX))\n",
    "print(len(trainY))\n",
    "print(len(testY))"
   ]
  },
  {
   "cell_type": "code",
   "execution_count": 10,
   "metadata": {},
   "outputs": [],
   "source": [
    "# construct the training image generator for data augmentation\n",
    "# 데이터 증강기법\n",
    "aug = ImageDataGenerator(rotation_range=20, zoom_range=0.15, width_shift_range=0.2, height_shift_range=0.2, shear_range=0.15, horizontal_flip=True, fill_mode=\"nearest\")"
   ]
  },
  {
   "cell_type": "code",
   "execution_count": 11,
   "metadata": {},
   "outputs": [
    {
     "name": "stdout",
     "output_type": "stream",
     "text": [
      "[INFO] compiling model...\n"
     ]
    }
   ],
   "source": [
    "# epoch, optimization 등 조정 후 compile\n",
    "maxepoch = 50\n",
    "# initialize the optimizer and model\n",
    "print(\"[INFO] compiling model...\")\n",
    "opt = Adam(lr=1e-4, decay=1e-4 / maxepoch)\n",
    "model = StridedNet.build(width=96, height=96, depth=3, classes=len(lb.classes_), reg=l2(0.0005))\n",
    "model.compile(loss=\"categorical_crossentropy\", optimizer=opt, metrics=[\"accuracy\"])"
   ]
  },
  {
   "cell_type": "code",
   "execution_count": 12,
   "metadata": {},
   "outputs": [
    {
     "name": "stdout",
     "output_type": "stream",
     "text": [
      "Model: \"sequential_1\"\n",
      "_________________________________________________________________\n",
      "Layer (type)                 Output Shape              Param #   \n",
      "=================================================================\n",
      "conv2d_1 (Conv2D)            (None, 45, 45, 16)        2368      \n",
      "_________________________________________________________________\n",
      "conv2d_2 (Conv2D)            (None, 45, 45, 32)        4640      \n",
      "_________________________________________________________________\n",
      "activation_1 (Activation)    (None, 45, 45, 32)        0         \n",
      "_________________________________________________________________\n",
      "batch_normalization_1 (Batch (None, 45, 45, 32)        128       \n",
      "_________________________________________________________________\n",
      "conv2d_3 (Conv2D)            (None, 23, 23, 32)        9248      \n",
      "_________________________________________________________________\n",
      "activation_2 (Activation)    (None, 23, 23, 32)        0         \n",
      "_________________________________________________________________\n",
      "batch_normalization_2 (Batch (None, 23, 23, 32)        128       \n",
      "_________________________________________________________________\n",
      "dropout_1 (Dropout)          (None, 23, 23, 32)        0         \n",
      "_________________________________________________________________\n",
      "conv2d_4 (Conv2D)            (None, 23, 23, 64)        18496     \n",
      "_________________________________________________________________\n",
      "activation_3 (Activation)    (None, 23, 23, 64)        0         \n",
      "_________________________________________________________________\n",
      "batch_normalization_3 (Batch (None, 23, 23, 64)        256       \n",
      "_________________________________________________________________\n",
      "conv2d_5 (Conv2D)            (None, 12, 12, 64)        36928     \n",
      "_________________________________________________________________\n",
      "activation_4 (Activation)    (None, 12, 12, 64)        0         \n",
      "_________________________________________________________________\n",
      "batch_normalization_4 (Batch (None, 12, 12, 64)        256       \n",
      "_________________________________________________________________\n",
      "dropout_2 (Dropout)          (None, 12, 12, 64)        0         \n",
      "_________________________________________________________________\n",
      "conv2d_6 (Conv2D)            (None, 12, 12, 128)       73856     \n",
      "_________________________________________________________________\n",
      "activation_5 (Activation)    (None, 12, 12, 128)       0         \n",
      "_________________________________________________________________\n",
      "batch_normalization_5 (Batch (None, 12, 12, 128)       512       \n",
      "_________________________________________________________________\n",
      "conv2d_7 (Conv2D)            (None, 6, 6, 128)         147584    \n",
      "_________________________________________________________________\n",
      "activation_6 (Activation)    (None, 6, 6, 128)         0         \n",
      "_________________________________________________________________\n",
      "batch_normalization_6 (Batch (None, 6, 6, 128)         512       \n",
      "_________________________________________________________________\n",
      "dropout_3 (Dropout)          (None, 6, 6, 128)         0         \n",
      "_________________________________________________________________\n",
      "flatten_1 (Flatten)          (None, 4608)              0         \n",
      "_________________________________________________________________\n",
      "dense_1 (Dense)              (None, 512)               2359808   \n",
      "_________________________________________________________________\n",
      "activation_7 (Activation)    (None, 512)               0         \n",
      "_________________________________________________________________\n",
      "batch_normalization_7 (Batch (None, 512)               2048      \n",
      "_________________________________________________________________\n",
      "dropout_4 (Dropout)          (None, 512)               0         \n",
      "_________________________________________________________________\n",
      "dense_2 (Dense)              (None, 4)                 2052      \n",
      "_________________________________________________________________\n",
      "activation_8 (Activation)    (None, 4)                 0         \n",
      "=================================================================\n",
      "Total params: 2,658,820\n",
      "Trainable params: 2,656,900\n",
      "Non-trainable params: 1,920\n",
      "_________________________________________________________________\n"
     ]
    }
   ],
   "source": [
    "model.summary()"
   ]
  },
  {
   "cell_type": "code",
   "execution_count": 14,
   "metadata": {},
   "outputs": [
    {
     "name": "stdout",
     "output_type": "stream",
     "text": [
      "[INFO] training network for 50 epochs...\n",
      "Epoch 1/50\n",
      "26/26 [==============================] - 15s 561ms/step - loss: 1.3756 - accuracy: 0.7335 - val_loss: 1.6085 - val_accuracy: 0.5957\n",
      "Epoch 2/50\n",
      "26/26 [==============================] - 14s 527ms/step - loss: 1.2487 - accuracy: 0.7602 - val_loss: 1.3942 - val_accuracy: 0.6583\n",
      "Epoch 3/50\n",
      "26/26 [==============================] - 14s 541ms/step - loss: 1.1408 - accuracy: 0.7909 - val_loss: 1.3626 - val_accuracy: 0.7335\n",
      "Epoch 4/50\n",
      "26/26 [==============================] - 14s 526ms/step - loss: 1.0545 - accuracy: 0.8186 - val_loss: 1.3767 - val_accuracy: 0.7585\n",
      "Epoch 5/50\n",
      "26/26 [==============================] - 13s 510ms/step - loss: 0.9895 - accuracy: 0.8374 - val_loss: 1.3117 - val_accuracy: 0.7835\n",
      "Epoch 6/50\n",
      "26/26 [==============================] - 14s 540ms/step - loss: 0.9604 - accuracy: 0.8504 - val_loss: 1.0933 - val_accuracy: 0.8032\n",
      "Epoch 7/50\n",
      "26/26 [==============================] - 13s 509ms/step - loss: 1.0092 - accuracy: 0.8593 - val_loss: 1.1370 - val_accuracy: 0.7800\n",
      "Epoch 8/50\n",
      "26/26 [==============================] - 14s 541ms/step - loss: 0.8834 - accuracy: 0.8534 - val_loss: 0.9855 - val_accuracy: 0.8283\n",
      "Epoch 9/50\n",
      "26/26 [==============================] - 14s 537ms/step - loss: 0.8918 - accuracy: 0.8733 - val_loss: 0.8186 - val_accuracy: 0.8748\n",
      "Epoch 10/50\n",
      "26/26 [==============================] - 14s 536ms/step - loss: 0.8327 - accuracy: 0.8728 - val_loss: 0.8537 - val_accuracy: 0.8784\n",
      "Epoch 11/50\n",
      "26/26 [==============================] - 15s 562ms/step - loss: 0.7910 - accuracy: 0.8882 - val_loss: 0.8436 - val_accuracy: 0.8784\n",
      "Epoch 12/50\n",
      "26/26 [==============================] - 15s 567ms/step - loss: 0.8323 - accuracy: 0.8864 - val_loss: 0.8017 - val_accuracy: 0.8927\n",
      "Epoch 13/50\n",
      "26/26 [==============================] - 14s 535ms/step - loss: 0.8462 - accuracy: 0.8837 - val_loss: 0.6648 - val_accuracy: 0.9302\n",
      "Epoch 14/50\n",
      "26/26 [==============================] - 15s 578ms/step - loss: 0.7826 - accuracy: 0.9014 - val_loss: 0.6773 - val_accuracy: 0.9177\n",
      "Epoch 15/50\n",
      "26/26 [==============================] - 15s 570ms/step - loss: 0.8025 - accuracy: 0.8944 - val_loss: 0.6626 - val_accuracy: 0.9284\n",
      "Epoch 16/50\n",
      "26/26 [==============================] - 14s 542ms/step - loss: 0.8233 - accuracy: 0.8978 - val_loss: 0.8461 - val_accuracy: 0.8784\n",
      "Epoch 17/50\n",
      "26/26 [==============================] - 15s 570ms/step - loss: 0.7204 - accuracy: 0.9135 - val_loss: 0.7354 - val_accuracy: 0.9052\n",
      "Epoch 18/50\n",
      "26/26 [==============================] - 14s 540ms/step - loss: 0.7464 - accuracy: 0.9197 - val_loss: 0.6777 - val_accuracy: 0.9177\n",
      "Epoch 19/50\n",
      "26/26 [==============================] - 15s 572ms/step - loss: 0.6845 - accuracy: 0.9248 - val_loss: 0.6755 - val_accuracy: 0.9195\n",
      "Epoch 20/50\n",
      "26/26 [==============================] - 15s 593ms/step - loss: 0.7289 - accuracy: 0.9056 - val_loss: 0.5987 - val_accuracy: 0.9553\n",
      "Epoch 21/50\n",
      "26/26 [==============================] - 16s 619ms/step - loss: 0.6594 - accuracy: 0.9286 - val_loss: 0.6389 - val_accuracy: 0.9410\n",
      "Epoch 22/50\n",
      "26/26 [==============================] - 14s 540ms/step - loss: 0.7041 - accuracy: 0.9149 - val_loss: 0.5920 - val_accuracy: 0.9571\n",
      "Epoch 23/50\n",
      "26/26 [==============================] - 14s 533ms/step - loss: 0.6838 - accuracy: 0.9311 - val_loss: 0.5940 - val_accuracy: 0.9589\n",
      "Epoch 24/50\n",
      "26/26 [==============================] - 14s 526ms/step - loss: 0.6713 - accuracy: 0.9348 - val_loss: 0.5758 - val_accuracy: 0.9660\n",
      "Epoch 25/50\n",
      "26/26 [==============================] - 14s 533ms/step - loss: 0.6858 - accuracy: 0.9273 - val_loss: 0.5741 - val_accuracy: 0.9660\n",
      "Epoch 26/50\n",
      "26/26 [==============================] - 15s 562ms/step - loss: 0.6659 - accuracy: 0.9323 - val_loss: 0.5727 - val_accuracy: 0.9732\n",
      "Epoch 27/50\n",
      "26/26 [==============================] - 14s 527ms/step - loss: 0.6355 - accuracy: 0.9447 - val_loss: 0.5729 - val_accuracy: 0.9642\n",
      "Epoch 28/50\n",
      "26/26 [==============================] - 14s 526ms/step - loss: 0.6785 - accuracy: 0.9317 - val_loss: 0.5849 - val_accuracy: 0.9678\n",
      "Epoch 29/50\n",
      "26/26 [==============================] - 14s 527ms/step - loss: 0.6330 - accuracy: 0.9373 - val_loss: 0.5565 - val_accuracy: 0.9767\n",
      "Epoch 30/50\n",
      "26/26 [==============================] - 14s 540ms/step - loss: 0.6438 - accuracy: 0.9416 - val_loss: 0.8367 - val_accuracy: 0.8909\n",
      "Epoch 31/50\n",
      "26/26 [==============================] - 15s 571ms/step - loss: 0.6210 - accuracy: 0.9435 - val_loss: 0.6506 - val_accuracy: 0.9302\n",
      "Epoch 32/50\n",
      "26/26 [==============================] - 14s 552ms/step - loss: 0.6328 - accuracy: 0.9472 - val_loss: 0.5544 - val_accuracy: 0.9678\n",
      "Epoch 33/50\n",
      "26/26 [==============================] - 14s 540ms/step - loss: 0.6082 - accuracy: 0.9565 - val_loss: 0.6103 - val_accuracy: 0.9571\n",
      "Epoch 34/50\n",
      "26/26 [==============================] - 15s 565ms/step - loss: 0.5838 - accuracy: 0.9561 - val_loss: 0.6031 - val_accuracy: 0.9660\n",
      "Epoch 35/50\n",
      "26/26 [==============================] - 15s 562ms/step - loss: 0.6067 - accuracy: 0.9499 - val_loss: 0.5950 - val_accuracy: 0.9642\n",
      "Epoch 36/50\n",
      "26/26 [==============================] - 15s 560ms/step - loss: 0.5931 - accuracy: 0.9503 - val_loss: 0.5627 - val_accuracy: 0.9732\n",
      "Epoch 37/50\n",
      "26/26 [==============================] - 14s 553ms/step - loss: 0.5899 - accuracy: 0.9565 - val_loss: 0.5496 - val_accuracy: 0.9767\n",
      "Epoch 38/50\n",
      "26/26 [==============================] - 15s 585ms/step - loss: 0.6061 - accuracy: 0.9491 - val_loss: 0.5336 - val_accuracy: 0.9732\n",
      "Epoch 39/50\n",
      "26/26 [==============================] - 15s 575ms/step - loss: 0.6270 - accuracy: 0.9435 - val_loss: 0.6024 - val_accuracy: 0.9535\n",
      "Epoch 40/50\n",
      "26/26 [==============================] - 14s 521ms/step - loss: 0.5752 - accuracy: 0.9550 - val_loss: 0.5730 - val_accuracy: 0.9660\n",
      "Epoch 41/50\n",
      "26/26 [==============================] - 14s 532ms/step - loss: 0.5998 - accuracy: 0.9509 - val_loss: 0.5714 - val_accuracy: 0.9660\n",
      "Epoch 42/50\n",
      "26/26 [==============================] - 14s 550ms/step - loss: 0.6059 - accuracy: 0.9471 - val_loss: 0.5632 - val_accuracy: 0.9660\n",
      "Epoch 43/50\n",
      "26/26 [==============================] - 14s 550ms/step - loss: 0.5693 - accuracy: 0.9640 - val_loss: 0.5464 - val_accuracy: 0.9714\n",
      "Epoch 44/50\n",
      "26/26 [==============================] - 14s 546ms/step - loss: 0.5809 - accuracy: 0.9640 - val_loss: 0.5698 - val_accuracy: 0.9624\n",
      "Epoch 45/50\n",
      "26/26 [==============================] - 15s 581ms/step - loss: 0.5829 - accuracy: 0.9602 - val_loss: 0.5643 - val_accuracy: 0.9714\n",
      "Epoch 46/50\n",
      "26/26 [==============================] - 15s 558ms/step - loss: 0.5789 - accuracy: 0.9652 - val_loss: 0.5508 - val_accuracy: 0.9732\n",
      "Epoch 47/50\n",
      "26/26 [==============================] - 14s 522ms/step - loss: 0.6458 - accuracy: 0.9634 - val_loss: 0.7638 - val_accuracy: 0.9088\n",
      "Epoch 48/50\n",
      "26/26 [==============================] - 14s 547ms/step - loss: 0.5733 - accuracy: 0.9627 - val_loss: 0.5987 - val_accuracy: 0.9714\n",
      "Epoch 49/50\n",
      "26/26 [==============================] - 14s 535ms/step - loss: 0.5758 - accuracy: 0.9559 - val_loss: 0.6041 - val_accuracy: 0.9624\n",
      "Epoch 50/50\n",
      "26/26 [==============================] - 14s 539ms/step - loss: 0.5749 - accuracy: 0.9634 - val_loss: 0.5914 - val_accuracy: 0.9678\n"
     ]
    }
   ],
   "source": [
    "# 모델 학습\n",
    "print(\"[INFO] training network for {} epochs...\".format(maxepoch))\n",
    "H = model.fit_generator(aug.flow(trainX, trainY, batch_size=64), validation_data=(testX, testY), steps_per_epoch=len(trainX) // 64, epochs=maxepoch, verbose=1)\n",
    "#batch_size: 32->10 for small GPU memory"
   ]
  },
  {
   "cell_type": "code",
   "execution_count": 15,
   "metadata": {},
   "outputs": [
    {
     "name": "stdout",
     "output_type": "stream",
     "text": [
      "[INFO] evaluating network...\n",
      "              precision    recall  f1-score   support\n",
      "\n",
      "       Faces       0.94      1.00      0.97       109\n",
      "    Leopards       1.00      0.74      0.85        50\n",
      "  Motorbikes       0.98      0.99      0.98       200\n",
      "   airplanes       0.97      0.98      0.98       200\n",
      "\n",
      "    accuracy                           0.97       559\n",
      "   macro avg       0.97      0.93      0.94       559\n",
      "weighted avg       0.97      0.97      0.97       559\n",
      "\n"
     ]
    }
   ],
   "source": [
    "# 모델 평가(test 데이터에 대하여)\n",
    "print(\"[INFO] evaluating network...\")\n",
    "predictions = model.predict(testX, batch_size=64)\n",
    "# precision : 예측 결과 중 참\n",
    "# https://scikit-learn.org/stable/modules/generated/sklearn.metrics.precision_recall_fscore_support.html#sklearn.metrics.precision_recall_fscore_support\n",
    "print(classification_report(testY.argmax(axis=1), predictions.argmax(axis=1), target_names=lb.classes_))"
   ]
  },
  {
   "cell_type": "code",
   "execution_count": 20,
   "metadata": {},
   "outputs": [
    {
     "data": {
      "image/png": "[encoded data removed]",
      "text/plain": [
       "<Figure size 504x504 with 2 Axes>"
      ]
     },
     "metadata": {
      "needs_background": "light"
     },
     "output_type": "display_data"
    }
   ],
   "source": [
    "from sklearn.metrics import classification_report, confusion_matrix\n",
    "import matplotlib.pyplot as plt\n",
    "import seaborn as sns\n",
    "\n",
    "# 혼동 행렬을 만듭니다.\n",
    "plt.figure(figsize = (7, 7))\n",
    "# testX와 testY가 일치한 경우(0,1,2,3 => Label 0, 1, 2, 3)\n",
    "cm = confusion_matrix(testY.argmax(axis=1), predictions.argmax(axis=1))\n",
    "# y_test와 results의 numpy 행렬에서 최고 차수(-1)를 기준으로 비교하여 최고값을 선정.\n",
    "sns.heatmap(cm, annot = True, fmt = 'd',cmap = 'Blues')\n",
    "# sklearn의 데이터를 이용하여 heatmap을 시각화해주는 seaborn의 패키지\n",
    "# \n",
    "plt.xlabel('predicted label')\n",
    "plt.ylabel('true label')\n",
    "plt.show()"
   ]
  },
  {
   "cell_type": "code",
   "execution_count": 17,
   "metadata": {},
   "outputs": [
    {
     "data": {
      "image/png": "[encoded data removed]",
      "text/plain": [
       "<Figure size 432x288 with 1 Axes>"
      ]
     },
     "metadata": {
      "needs_background": "light"
     },
     "output_type": "display_data"
    }
   ],
   "source": [
    "# plot the training loss and accuracy\n",
    "import matplotlib\n",
    "%matplotlib inline\n",
    "plt.figure()\n",
    "plt.plot(np.arange(0, maxepoch), H.history[\"loss\"], label=\"train_loss\")\n",
    "plt.plot(np.arange(0, maxepoch), H.history[\"val_loss\"], label=\"val_loss\")\n",
    "plt.plot(np.arange(0, maxepoch), H.history[\"accuracy\"], label=\"train_accuracy\")\n",
    "plt.plot(np.arange(0, maxepoch), H.history[\"val_accuracy\"], label=\"val_accuracy\")\n",
    "\n",
    "plt.title(\"Training Loss and Accuracy on Dataset\")\n",
    "plt.xlabel(\"Epoch #\")\n",
    "plt.ylabel(\"Loss/Accuracy\")\n",
    "plt.legend(loc=\"lower left\")\n",
    "plt.show()"
   ]
  }
 ],
 "metadata": {
  "kernelspec": {
   "display_name": "test",
   "language": "python",
   "name": "test"
  },
  "language_info": {
   "codemirror_mode": {
    "name": "ipython",
    "version": 3
   },
   "file_extension": ".py",
   "mimetype": "text/x-python",
   "name": "python",
   "nbconvert_exporter": "python",
   "pygments_lexer": "ipython3",
   "version": "3.7.7"
  }
 },
 "nbformat": 4,
 "nbformat_minor": 4
}
