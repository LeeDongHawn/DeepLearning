{
 "cells": [
  {
   "cell_type": "markdown",
   "metadata": {},
   "source": [
    "# CALTECH101 데이터셋 분류하기\n",
    "## 데이터셋 구성\n",
    "# CALETECH101.zip\n",
    "## accordion\n",
    "### - image_0001.jpg\n",
    "### - image_0002.jpg\n",
    "## airplanes\n",
    "### - image_0001.jpg\n",
    "### - image_0002.jpg\n",
    "...\n",
    "\n",
    "## 사용한 기법\n",
    "## - train_test_split\n",
    "## - ImageDataGenerator\n",
    "## - K-fold\n",
    "## - EarlyStopping, ReduceLROnPlateau, ModelCheckpoint "
   ]
  },
  {
   "cell_type": "markdown",
   "metadata": {},
   "source": [
    "https://ichi.pro/ko/kerasleul-sayonghan-dib-leoning-eul-wihan-k-poldeu-gyocha-geomjeung-69014279685432\n",
    "\n",
    "해야할일 : k-fold 각 모델 중에서 어떤 모델을 사용해야 하는지 판단하기.\n",
    "가장 좋은 모델들 불러와서 그래프, 혼동행렬 그리기\n",
    "지금은 계속 모델 덮어쓰고있음"
   ]
  },
  {
   "cell_type": "code",
   "execution_count": 1,
   "metadata": {},
   "outputs": [
    {
     "name": "stderr",
     "output_type": "stream",
     "text": [
      "C:\\Users\\User\\Anaconda3\\envs\\test\\lib\\site-packages\\tensorflow\\python\\framework\\dtypes.py:516: FutureWarning: Passing (type, 1) or '1type' as a synonym of type is deprecated; in a future version of numpy, it will be understood as (type, (1,)) / '(1,)type'.\n",
      "  _np_qint8 = np.dtype([(\"qint8\", np.int8, 1)])\n",
      "C:\\Users\\User\\Anaconda3\\envs\\test\\lib\\site-packages\\tensorflow\\python\\framework\\dtypes.py:517: FutureWarning: Passing (type, 1) or '1type' as a synonym of type is deprecated; in a future version of numpy, it will be understood as (type, (1,)) / '(1,)type'.\n",
      "  _np_quint8 = np.dtype([(\"quint8\", np.uint8, 1)])\n",
      "C:\\Users\\User\\Anaconda3\\envs\\test\\lib\\site-packages\\tensorflow\\python\\framework\\dtypes.py:518: FutureWarning: Passing (type, 1) or '1type' as a synonym of type is deprecated; in a future version of numpy, it will be understood as (type, (1,)) / '(1,)type'.\n",
      "  _np_qint16 = np.dtype([(\"qint16\", np.int16, 1)])\n",
      "C:\\Users\\User\\Anaconda3\\envs\\test\\lib\\site-packages\\tensorflow\\python\\framework\\dtypes.py:519: FutureWarning: Passing (type, 1) or '1type' as a synonym of type is deprecated; in a future version of numpy, it will be understood as (type, (1,)) / '(1,)type'.\n",
      "  _np_quint16 = np.dtype([(\"quint16\", np.uint16, 1)])\n",
      "C:\\Users\\User\\Anaconda3\\envs\\test\\lib\\site-packages\\tensorflow\\python\\framework\\dtypes.py:520: FutureWarning: Passing (type, 1) or '1type' as a synonym of type is deprecated; in a future version of numpy, it will be understood as (type, (1,)) / '(1,)type'.\n",
      "  _np_qint32 = np.dtype([(\"qint32\", np.int32, 1)])\n",
      "C:\\Users\\User\\Anaconda3\\envs\\test\\lib\\site-packages\\tensorflow\\python\\framework\\dtypes.py:525: FutureWarning: Passing (type, 1) or '1type' as a synonym of type is deprecated; in a future version of numpy, it will be understood as (type, (1,)) / '(1,)type'.\n",
      "  np_resource = np.dtype([(\"resource\", np.ubyte, 1)])\n"
     ]
    },
    {
     "name": "stdout",
     "output_type": "stream",
     "text": [
      "1 Physical CPU, 1 Logical CPU\n"
     ]
    },
    {
     "name": "stderr",
     "output_type": "stream",
     "text": [
      "C:\\Users\\User\\Anaconda3\\envs\\test\\lib\\site-packages\\tensorboard\\compat\\tensorflow_stub\\dtypes.py:541: FutureWarning: Passing (type, 1) or '1type' as a synonym of type is deprecated; in a future version of numpy, it will be understood as (type, (1,)) / '(1,)type'.\n",
      "  _np_qint8 = np.dtype([(\"qint8\", np.int8, 1)])\n",
      "C:\\Users\\User\\Anaconda3\\envs\\test\\lib\\site-packages\\tensorboard\\compat\\tensorflow_stub\\dtypes.py:542: FutureWarning: Passing (type, 1) or '1type' as a synonym of type is deprecated; in a future version of numpy, it will be understood as (type, (1,)) / '(1,)type'.\n",
      "  _np_quint8 = np.dtype([(\"quint8\", np.uint8, 1)])\n",
      "C:\\Users\\User\\Anaconda3\\envs\\test\\lib\\site-packages\\tensorboard\\compat\\tensorflow_stub\\dtypes.py:543: FutureWarning: Passing (type, 1) or '1type' as a synonym of type is deprecated; in a future version of numpy, it will be understood as (type, (1,)) / '(1,)type'.\n",
      "  _np_qint16 = np.dtype([(\"qint16\", np.int16, 1)])\n",
      "C:\\Users\\User\\Anaconda3\\envs\\test\\lib\\site-packages\\tensorboard\\compat\\tensorflow_stub\\dtypes.py:544: FutureWarning: Passing (type, 1) or '1type' as a synonym of type is deprecated; in a future version of numpy, it will be understood as (type, (1,)) / '(1,)type'.\n",
      "  _np_quint16 = np.dtype([(\"quint16\", np.uint16, 1)])\n",
      "C:\\Users\\User\\Anaconda3\\envs\\test\\lib\\site-packages\\tensorboard\\compat\\tensorflow_stub\\dtypes.py:545: FutureWarning: Passing (type, 1) or '1type' as a synonym of type is deprecated; in a future version of numpy, it will be understood as (type, (1,)) / '(1,)type'.\n",
      "  _np_qint32 = np.dtype([(\"qint32\", np.int32, 1)])\n",
      "C:\\Users\\User\\Anaconda3\\envs\\test\\lib\\site-packages\\tensorboard\\compat\\tensorflow_stub\\dtypes.py:550: FutureWarning: Passing (type, 1) or '1type' as a synonym of type is deprecated; in a future version of numpy, it will be understood as (type, (1,)) / '(1,)type'.\n",
      "  np_resource = np.dtype([(\"resource\", np.ubyte, 1)])\n"
     ]
    }
   ],
   "source": [
    "#https://www.pyimagesearch.com/2018/12/31/keras-conv2d-and-convolutional-layers/\n",
    "import tensorflow as tf\n",
    "\n",
    "import os\n",
    "os.environ['TF_CPP_MIN_LOG_LEVEL'] = '3'\n",
    "os.environ[\"CUDA_DEVICE_ORDER\"] = \"PCI_BUS_ID\"\n",
    "os.environ[\"CUDA_VISIBLE_DEVICES\"] = '0' # Set to -1 if CPU should be used CPU = -1 , GPU = 0\n",
    "\n",
    "gpus = tf.config.experimental.list_physical_devices('GPU')\n",
    "cpus = tf.config.experimental.list_physical_devices('CPU')\n",
    "\n",
    "if gpus:\n",
    "    try:\n",
    "        # Currently, memory growth needs to be the same across GPUs\n",
    "        for gpu in gpus:\n",
    "            tf.config.experimental.set_memory_growth(gpu, True)\n",
    "        logical_gpus = tf.config.experimental.list_logical_devices('GPU')\n",
    "        print(len(gpus), \"Physical GPUs,\", len(logical_gpus), \"Logical GPUs\")\n",
    "    except RuntimeError as e:\n",
    "        # Memory growth must be set before GPUs have been initialized\n",
    "        print(e)\n",
    "elif cpus:\n",
    "    try:\n",
    "        # Currently, memory growth needs to be the same across GPUs\n",
    "        logical_cpus= tf.config.experimental.list_logical_devices('CPU')\n",
    "        print(len(cpus), \"Physical CPU,\", len(logical_cpus), \"Logical CPU\")\n",
    "    except RuntimeError as e:\n",
    "        # Memory growth must be set before GPUs have been initialized\n",
    "        print(e)"
   ]
  },
  {
   "cell_type": "code",
   "execution_count": 2,
   "metadata": {},
   "outputs": [
    {
     "name": "stderr",
     "output_type": "stream",
     "text": [
      "Using TensorFlow backend.\n"
     ]
    }
   ],
   "source": [
    "from sklearn.preprocessing import LabelBinarizer\n",
    "from sklearn.model_selection import train_test_split\n",
    "from sklearn.metrics import classification_report\n",
    "from keras.preprocessing.image import ImageDataGenerator\n",
    "from keras.optimizers import Adam\n",
    "from keras.regularizers import l2\n",
    "# pip install imutils\n",
    "from imutils import paths\n",
    "import matplotlib.pyplot as plt\n",
    "import numpy as np\n",
    "import pandas as pd\n",
    "import argparse\n",
    "import cv2\n",
    "import os\n",
    "from keras.models import Sequential\n",
    "from keras.layers.normalization import BatchNormalization\n",
    "from keras.layers.convolutional import Conv2D\n",
    "from keras.layers.core import Activation\n",
    "from keras.layers.core import Flatten\n",
    "from keras.layers.core import Dropout\n",
    "from keras.layers.core import Dense\n",
    "from keras import backend as K"
   ]
  },
  {
   "cell_type": "code",
   "execution_count": 3,
   "metadata": {},
   "outputs": [],
   "source": [
    "# StrideNet\n",
    "class StridedNet:\n",
    "\t@staticmethod\n",
    "\tdef build(width, height, depth, classes, reg, init=\"he_normal\"):\n",
    "\t\t# initialize the model along with the input shape to be\n",
    "\t\t# \"channels last\" and the channels dimension itself\n",
    "\t\tmodel = Sequential()\n",
    "\t\tinputShape = (height, width, depth)\n",
    "\t\tchanDim = -1\n",
    "\n",
    "\t\t# if we are using \"channels first\", update the input shape\n",
    "\t\t# and channels dimension\n",
    "\t\tif K.image_data_format() == \"channels_first\":\n",
    "\t\t\tinputShape = (depth, height, width)\n",
    "\t\t\tchanDim = 1\n",
    "\n",
    "\t\t# our first CONV layer will learn a total of 16 filters, each\n",
    "\t\t# Of which are 7x7 -- we'll then apply 2x2 strides to reduce\n",
    "\t\t# the spatial dimensions of the volume\n",
    "\t\tmodel.add(Conv2D(16, (7, 7), strides=(2, 2), padding=\"valid\", kernel_initializer=init, kernel_regularizer=reg, input_shape=inputShape))\n",
    "\n",
    "\t\t# here we stack two CONV layers on top of each other where\n",
    "\t\t# each layerswill learn a total of 32 (3x3) filters\n",
    "\t\tmodel.add(Conv2D(32, (3, 3), padding=\"same\", kernel_initializer=init, kernel_regularizer=reg))\n",
    "\t\tmodel.add(Activation(\"relu\"))\n",
    "\t\tmodel.add(BatchNormalization(axis=chanDim))\n",
    "\t\tmodel.add(Conv2D(32, (3, 3), strides=(2, 2), padding=\"same\", kernel_initializer=init, kernel_regularizer=reg))\n",
    "\t\tmodel.add(Activation(\"relu\"))\n",
    "\t\tmodel.add(BatchNormalization(axis=chanDim))\n",
    "\t\tmodel.add(Dropout(0.25))\n",
    "\n",
    "\t\t# stack two more CONV layers, keeping the size of each filter\n",
    "\t\t# as 3x3 but increasing to 64 total learned filters\n",
    "\t\tmodel.add(Conv2D(64, (3, 3), padding=\"same\", kernel_initializer=init, kernel_regularizer=reg))\n",
    "\t\tmodel.add(Activation(\"relu\"))\n",
    "\t\tmodel.add(BatchNormalization(axis=chanDim))\n",
    "\t\tmodel.add(Conv2D(64, (3, 3), strides=(2, 2), padding=\"same\", kernel_initializer=init, kernel_regularizer=reg))\n",
    "\t\tmodel.add(Activation(\"relu\"))\n",
    "\t\tmodel.add(BatchNormalization(axis=chanDim))\n",
    "\t\tmodel.add(Dropout(0.25))\n",
    "\n",
    "\t\t# increase the number of filters again, this time to 128\n",
    "\t\tmodel.add(Conv2D(128, (3, 3), padding=\"same\", kernel_initializer=init, kernel_regularizer=reg))\n",
    "\t\tmodel.add(Activation(\"relu\"))\n",
    "\t\tmodel.add(BatchNormalization(axis=chanDim))\n",
    "\t\tmodel.add(Conv2D(128, (3, 3), strides=(2, 2), padding=\"same\", kernel_initializer=init, kernel_regularizer=reg))\n",
    "\t\tmodel.add(Activation(\"relu\"))\n",
    "\t\tmodel.add(BatchNormalization(axis=chanDim))\n",
    "\t\tmodel.add(Dropout(0.25))\n",
    "\n",
    "\t\t# fully-connected layer\n",
    "\t\tmodel.add(Flatten())\n",
    "\t\tmodel.add(Dense(512, kernel_initializer=init))\n",
    "\t\tmodel.add(Activation(\"relu\"))\n",
    "\t\tmodel.add(BatchNormalization())\n",
    "\t\tmodel.add(Dropout(0.5))\n",
    "\n",
    "\t\t# softmax classifier\n",
    "\t\tmodel.add(Dense(classes))\n",
    "\t\tmodel.add(Activation(\"softmax\"))\n",
    "\n",
    "\t\t# return the constructed network architecture\n",
    "\t\treturn model"
   ]
  },
  {
   "cell_type": "code",
   "execution_count": 4,
   "metadata": {},
   "outputs": [],
   "source": [
    "# initialize the set of labels from the CALTECH-101 dataset we are\n",
    "# going to train our network on\n",
    "# 다른 카테고리들은 사용하지 않고 아래 4개의 카테고리만 사용할 것임\n",
    "LABELS = set([\"Faces\", \"Leopards\", \"Motorbikes\", \"airplanes\"])"
   ]
  },
  {
   "cell_type": "code",
   "execution_count": 5,
   "metadata": {},
   "outputs": [
    {
     "name": "stdout",
     "output_type": "stream",
     "text": [
      "[INFO] loading images...\n"
     ]
    }
   ],
   "source": [
    "#imagedir = 'CALTECH101_ObjectCategories'\n",
    "imagefilename = 'D:/파이썬딥러닝/PyImageSearchDeepLearning.vol1/CALTECH101_ObjectCategories.zip'\n",
    "import zipfile\n",
    "print(\"[INFO] loading images...\")\n",
    "#imagePaths = list(paths.list_images(imagedir))\n",
    "zf = zipfile.ZipFile(imagefilename)\n",
    "imagelist = zf.namelist()\n",
    "data = []\n",
    "labels = []\n",
    "\n",
    "# print(imagelist) - zip안에 있는 카테고리/이미지이름.jpg로 구성됨"
   ]
  },
  {
   "cell_type": "code",
   "execution_count": 6,
   "metadata": {},
   "outputs": [],
   "source": [
    "# zip안에 있는 카테고리/이미지이름.jpg로 구성된 list에서\n",
    "\n",
    "for imagePath in imagelist:\n",
    "    # 카테고리 이름만 추출함\n",
    "\tlabel = imagePath.split('/')[-2]\n",
    "\n",
    "    # 위에 설정한 LABELS에 속하지 않으면 저장하지 않고 넘어감\n",
    "\tif label not in LABELS:\n",
    "\t\tcontinue\n",
    "\n",
    "    # 해당 LABELS에 속하는 이미지들을\n",
    "\timagedata = zf.read(imagePath)\n",
    "    # unit8로 바꾸고, resize하여 불러옴\n",
    "\timage = cv2.imdecode(np.frombuffer(imagedata, np.uint8), 1)\n",
    "\timage = cv2.resize(image, (96, 96))\n",
    "\n",
    "    # data에는 이미지를 담고(이미지 1개 - labels 1개)\n",
    "\tdata.append(image)\n",
    "    # label에는 label을 담음\n",
    "\tlabels.append(label)\n",
    "    \n",
    "# print(np.shape(data))\n",
    "# print(np.shape(labels))"
   ]
  },
  {
   "cell_type": "code",
   "execution_count": 7,
   "metadata": {},
   "outputs": [
    {
     "name": "stdout",
     "output_type": "stream",
     "text": [
      "(2233, 96, 96, 3)\n"
     ]
    }
   ],
   "source": [
    "# 이미지 pixels [0,1] 범위로 조정(np_array로 변환)\n",
    "data = np.array(data, dtype=\"float\") / 255.0\n",
    "print(data.shape)"
   ]
  },
  {
   "cell_type": "code",
   "execution_count": 8,
   "metadata": {},
   "outputs": [
    {
     "name": "stdout",
     "output_type": "stream",
     "text": [
      "['airplanes' 'airplanes' 'airplanes' ... 'Motorbikes' 'Motorbikes'\n",
      " 'Motorbikes']\n"
     ]
    }
   ],
   "source": [
    "# label을 np_array로 변환\n",
    "labels = np.array(labels)\n",
    "# one-hot encoding 안된상태임\n",
    "print(labels)"
   ]
  },
  {
   "cell_type": "code",
   "execution_count": 9,
   "metadata": {},
   "outputs": [
    {
     "name": "stdout",
     "output_type": "stream",
     "text": [
      "1674\n",
      "559\n",
      "1674\n",
      "559\n",
      "(1674, 96, 96, 3)\n",
      "(1674,)\n"
     ]
    }
   ],
   "source": [
    "# 이미지가 train , test 구별이 되어 있지 않음\n",
    "# 전체 이미지 data를 trainX, testX로 나누고,\n",
    "# 전체 Label를 trainY, testY로 나눔\n",
    "# train : 0.75%, test : 0.25%\n",
    "# train에서 valid로 다시 분할하고, test는 test 용으로만 사용해야함\n",
    "(trainX, testX, trainY, testY) = train_test_split(data, labels, test_size=0.25, stratify=labels, random_state=42)\n",
    "print(len(trainX))\n",
    "print(len(testX))\n",
    "print(len(trainY))\n",
    "print(len(testY))\n",
    "\n",
    "print(trainX.shape)\n",
    "print(trainY.shape)"
   ]
  },
  {
   "cell_type": "code",
   "execution_count": 10,
   "metadata": {},
   "outputs": [
    {
     "name": "stdout",
     "output_type": "stream",
     "text": [
      "(1674, 4)\n"
     ]
    }
   ],
   "source": [
    "# LabelBinarizer : 실제로 사용된 클래스만 인코딩한다.\n",
    "lb = LabelBinarizer()\n",
    "trainY = lb.fit_transform(trainY)\n",
    "testY = lb.fit_transform(testY)\n",
    "print(trainY.shape)\n",
    "# print(trainY.argmax(1))"
   ]
  },
  {
   "cell_type": "code",
   "execution_count": 11,
   "metadata": {},
   "outputs": [],
   "source": [
    "# construct the training image generator for data augmentation\n",
    "# 데이터 증강기법\n",
    "aug_train = ImageDataGenerator(rotation_range=20, zoom_range=0.15, width_shift_range=0.2, height_shift_range=0.2, shear_range=0.15, horizontal_flip=True, fill_mode=\"nearest\")\n",
    "aug_test = ImageDataGenerator()"
   ]
  },
  {
   "cell_type": "code",
   "execution_count": 12,
   "metadata": {},
   "outputs": [],
   "source": [
    "# K-Fold\n",
    "from sklearn.model_selection import StratifiedKFold\n",
    "seed = 0\n",
    "skf = StratifiedKFold(n_splits=2, shuffle = True, random_state=seed)"
   ]
  },
  {
   "cell_type": "code",
   "execution_count": 13,
   "metadata": {},
   "outputs": [
    {
     "name": "stdout",
     "output_type": "stream",
     "text": [
      "WARNING:tensorflow:From C:\\Users\\User\\Anaconda3\\envs\\test\\lib\\site-packages\\keras\\backend\\tensorflow_backend.py:422: The name tf.global_variables is deprecated. Please use tf.compat.v1.global_variables instead.\n",
      "\n",
      "Epoch 1/30\n",
      "14/14 [==============================] - 9s 647ms/step - loss: 1.9947 - accuracy: 0.5544 - val_loss: 11.3551 - val_accuracy: 0.3572\n",
      "\n",
      "Epoch 00001: val_loss improved from inf to 11.35505, saving model to D:/파이썬딥러닝/PyImageSearchDeepLearning.vol1/CALTEC/model.weights.best0.hdf5\n",
      "Epoch 2/30\n",
      "14/14 [==============================] - 8s 579ms/step - loss: 1.3711 - accuracy: 0.7300 - val_loss: 12.0475 - val_accuracy: 0.3787\n",
      "\n",
      "Epoch 00002: val_loss did not improve from 11.35505\n",
      "Epoch 3/30\n",
      "14/14 [==============================] - 8s 569ms/step - loss: 1.1561 - accuracy: 0.8232 - val_loss: 4.4375 - val_accuracy: 0.4922\n",
      "\n",
      "Epoch 00003: val_loss improved from 11.35505 to 4.43755, saving model to D:/파이썬딥러닝/PyImageSearchDeepLearning.vol1/CALTEC/model.weights.best0.hdf5\n",
      "Epoch 4/30\n",
      "14/14 [==============================] - 8s 571ms/step - loss: 0.9765 - accuracy: 0.8566 - val_loss: 5.6532 - val_accuracy: 0.5902\n",
      "\n",
      "Epoch 00004: val_loss did not improve from 4.43755\n",
      "Epoch 5/30\n",
      "14/14 [==============================] - 8s 584ms/step - loss: 1.1698 - accuracy: 0.8769 - val_loss: 0.8659 - val_accuracy: 0.6523\n",
      "\n",
      "Epoch 00005: val_loss improved from 4.43755 to 0.86585, saving model to D:/파이썬딥러닝/PyImageSearchDeepLearning.vol1/CALTEC/model.weights.best0.hdf5\n",
      "Epoch 6/30\n",
      "14/14 [==============================] - 8s 570ms/step - loss: 0.9320 - accuracy: 0.8483 - val_loss: 0.9477 - val_accuracy: 0.6356\n",
      "\n",
      "Epoch 00006: val_loss did not improve from 0.86585\n",
      "Epoch 7/30\n",
      "14/14 [==============================] - 8s 567ms/step - loss: 0.9346 - accuracy: 0.8638 - val_loss: 0.5455 - val_accuracy: 0.7157\n",
      "\n",
      "Epoch 00007: val_loss improved from 0.86585 to 0.54551, saving model to D:/파이썬딥러닝/PyImageSearchDeepLearning.vol1/CALTEC/model.weights.best0.hdf5\n",
      "Epoch 8/30\n",
      "14/14 [==============================] - 8s 577ms/step - loss: 0.8386 - accuracy: 0.8973 - val_loss: 1.9290 - val_accuracy: 0.6977\n",
      "\n",
      "Epoch 00008: val_loss did not improve from 0.54551\n",
      "Epoch 9/30\n",
      "14/14 [==============================] - 8s 575ms/step - loss: 0.7933 - accuracy: 0.8925 - val_loss: 0.5967 - val_accuracy: 0.7622\n",
      "\n",
      "Epoch 00009: val_loss did not improve from 0.54551\n",
      "Epoch 10/30\n",
      "14/14 [==============================] - 8s 581ms/step - loss: 1.1798 - accuracy: 0.8578 - val_loss: 0.4925 - val_accuracy: 0.5532\n",
      "\n",
      "Epoch 00010: val_loss improved from 0.54551 to 0.49251, saving model to D:/파이썬딥러닝/PyImageSearchDeepLearning.vol1/CALTEC/model.weights.best0.hdf5\n",
      "Epoch 11/30\n",
      "14/14 [==============================] - 8s 580ms/step - loss: 0.8247 - accuracy: 0.8973 - val_loss: 6.8056 - val_accuracy: 0.5090\n",
      "\n",
      "Epoch 00011: val_loss did not improve from 0.49251\n",
      "Epoch 12/30\n",
      "14/14 [==============================] - 8s 572ms/step - loss: 0.9681 - accuracy: 0.8865 - val_loss: 13.4370 - val_accuracy: 0.3668\n",
      "\n",
      "Epoch 00012: val_loss did not improve from 0.49251\n",
      "Epoch 13/30\n",
      "14/14 [==============================] - 8s 572ms/step - loss: 0.7630 - accuracy: 0.8961 - val_loss: 0.5399 - val_accuracy: 0.8256\n",
      "\n",
      "Epoch 00013: val_loss did not improve from 0.49251\n",
      "Epoch 14/30\n",
      "14/14 [==============================] - 8s 574ms/step - loss: 0.7854 - accuracy: 0.9271 - val_loss: 0.4805 - val_accuracy: 0.8686\n",
      "\n",
      "Epoch 00014: val_loss improved from 0.49251 to 0.48046, saving model to D:/파이썬딥러닝/PyImageSearchDeepLearning.vol1/CALTEC/model.weights.best0.hdf5\n",
      "Epoch 15/30\n",
      "14/14 [==============================] - 8s 573ms/step - loss: 0.7889 - accuracy: 0.9307 - val_loss: 2.0560 - val_accuracy: 0.7945\n",
      "\n",
      "Epoch 00015: val_loss did not improve from 0.48046\n",
      "Epoch 16/30\n",
      "14/14 [==============================] - 8s 572ms/step - loss: 0.7925 - accuracy: 0.9068 - val_loss: 3.7184 - val_accuracy: 0.5173\n",
      "\n",
      "Epoch 00016: val_loss did not improve from 0.48046\n",
      "Epoch 17/30\n",
      "14/14 [==============================] - 8s 573ms/step - loss: 0.7311 - accuracy: 0.9200 - val_loss: 1.3675 - val_accuracy: 0.7467\n",
      "\n",
      "Epoch 00017: val_loss did not improve from 0.48046\n",
      "Epoch 18/30\n",
      "14/14 [==============================] - 8s 573ms/step - loss: 0.7048 - accuracy: 0.9200 - val_loss: 0.7632 - val_accuracy: 0.8889\n",
      "\n",
      "Epoch 00018: val_loss did not improve from 0.48046\n",
      "Epoch 19/30\n",
      "14/14 [==============================] - 8s 576ms/step - loss: 0.6056 - accuracy: 0.9510 - val_loss: 0.4974 - val_accuracy: 0.8650\n",
      "\n",
      "Epoch 00019: val_loss did not improve from 0.48046\n",
      "\n",
      "Epoch 00019: ReduceLROnPlateau reducing learning rate to 0.00020000000949949026.\n",
      "Epoch 20/30\n",
      "14/14 [==============================] - 8s 583ms/step - loss: 0.6315 - accuracy: 0.9534 - val_loss: 2.1910 - val_accuracy: 0.8483\n",
      "\n",
      "Epoch 00020: val_loss did not improve from 0.48046\n",
      "Epoch 21/30\n",
      "14/14 [==============================] - 8s 574ms/step - loss: 0.6800 - accuracy: 0.9486 - val_loss: 0.7040 - val_accuracy: 0.8554\n",
      "\n",
      "Epoch 00021: val_loss did not improve from 0.48046\n",
      "Epoch 22/30\n",
      "14/14 [==============================] - 8s 577ms/step - loss: 0.5965 - accuracy: 0.9546 - val_loss: 1.0920 - val_accuracy: 0.9128\n",
      "\n",
      "Epoch 00022: val_loss did not improve from 0.48046\n",
      "Epoch 23/30\n",
      "14/14 [==============================] - 8s 587ms/step - loss: 0.5983 - accuracy: 0.9558 - val_loss: 0.4769 - val_accuracy: 0.9200\n",
      "\n",
      "Epoch 00023: val_loss improved from 0.48046 to 0.47690, saving model to D:/파이썬딥러닝/PyImageSearchDeepLearning.vol1/CALTEC/model.weights.best0.hdf5\n",
      "Epoch 24/30\n",
      "14/14 [==============================] - 8s 588ms/step - loss: 0.7371 - accuracy: 0.9546 - val_loss: 0.7024 - val_accuracy: 0.9379\n",
      "\n",
      "Epoch 00024: val_loss did not improve from 0.47690\n",
      "Epoch 25/30\n",
      "14/14 [==============================] - 8s 574ms/step - loss: 0.5751 - accuracy: 0.9618 - val_loss: 2.6902 - val_accuracy: 0.9415\n",
      "\n",
      "Epoch 00025: val_loss did not improve from 0.47690\n",
      "Epoch 26/30\n",
      "14/14 [==============================] - 8s 577ms/step - loss: 0.5820 - accuracy: 0.9630 - val_loss: 0.5031 - val_accuracy: 0.9379\n",
      "\n",
      "Epoch 00026: val_loss did not improve from 0.47690\n",
      "Epoch 27/30\n",
      "14/14 [==============================] - 8s 575ms/step - loss: 0.5826 - accuracy: 0.9570 - val_loss: 0.5230 - val_accuracy: 0.9438\n",
      "\n",
      "Epoch 00027: val_loss did not improve from 0.47690\n",
      "Epoch 28/30\n",
      "14/14 [==============================] - 8s 581ms/step - loss: 0.6135 - accuracy: 0.9522 - val_loss: 0.8457 - val_accuracy: 0.9450\n",
      "\n",
      "Epoch 00028: val_loss did not improve from 0.47690\n",
      "\n",
      "Epoch 00028: ReduceLROnPlateau reducing learning rate to 4.0000001899898055e-05.\n",
      "Epoch 29/30\n",
      "14/14 [==============================] - 8s 576ms/step - loss: 0.6224 - accuracy: 0.9642 - val_loss: 0.4750 - val_accuracy: 0.9450\n",
      "\n",
      "Epoch 00029: val_loss improved from 0.47690 to 0.47499, saving model to D:/파이썬딥러닝/PyImageSearchDeepLearning.vol1/CALTEC/model.weights.best0.hdf5\n",
      "Epoch 30/30\n",
      "14/14 [==============================] - 8s 575ms/step - loss: 0.6609 - accuracy: 0.9630 - val_loss: 0.4843 - val_accuracy: 0.9498\n",
      "\n",
      "Epoch 00030: val_loss did not improve from 0.47499\n",
      "559/559 [==============================] - 1s 2ms/step\n",
      "1 번째 학습을 완료했습니다.\n",
      "Epoch 1/30\n",
      "14/14 [==============================] - 9s 657ms/step - loss: 1.8211 - accuracy: 0.6057 - val_loss: 22.8315 - val_accuracy: 0.3572\n",
      "\n",
      "Epoch 00001: val_loss improved from inf to 22.83150, saving model to D:/파이썬딥러닝/PyImageSearchDeepLearning.vol1/CALTEC/model.weights.best1.hdf5\n",
      "Epoch 2/30\n",
      "14/14 [==============================] - 8s 580ms/step - loss: 1.2618 - accuracy: 0.7802 - val_loss: 8.7971 - val_accuracy: 0.3572\n",
      "\n",
      "Epoch 00002: val_loss improved from 22.83150 to 8.79707, saving model to D:/파이썬딥러닝/PyImageSearchDeepLearning.vol1/CALTEC/model.weights.best1.hdf5\n",
      "Epoch 3/30\n",
      "14/14 [==============================] - 9s 668ms/step - loss: 1.1435 - accuracy: 0.8220 - val_loss: 36.1246 - val_accuracy: 0.3668\n",
      "\n",
      "Epoch 00003: val_loss did not improve from 8.79707\n",
      "Epoch 4/30\n",
      "14/14 [==============================] - 8s 601ms/step - loss: 0.9441 - accuracy: 0.8495 - val_loss: 4.1554 - val_accuracy: 0.5185\n",
      "\n",
      "Epoch 00004: val_loss improved from 8.79707 to 4.15535, saving model to D:/파이썬딥러닝/PyImageSearchDeepLearning.vol1/CALTEC/model.weights.best1.hdf5\n",
      "Epoch 5/30\n"
     ]
    },
    {
     "name": "stdout",
     "output_type": "stream",
     "text": [
      "14/14 [==============================] - 9s 626ms/step - loss: 0.8589 - accuracy: 0.8925 - val_loss: 11.5586 - val_accuracy: 0.5472\n",
      "\n",
      "Epoch 00005: val_loss did not improve from 4.15535\n",
      "Epoch 6/30\n",
      "14/14 [==============================] - 8s 607ms/step - loss: 0.8052 - accuracy: 0.8913 - val_loss: 1.6197 - val_accuracy: 0.6930\n",
      "\n",
      "Epoch 00006: val_loss improved from 4.15535 to 1.61967, saving model to D:/파이썬딥러닝/PyImageSearchDeepLearning.vol1/CALTEC/model.weights.best1.hdf5\n",
      "Epoch 7/30\n",
      "14/14 [==============================] - 9s 654ms/step - loss: 0.8892 - accuracy: 0.9032 - val_loss: 2.6690 - val_accuracy: 0.7061\n",
      "\n",
      "Epoch 00007: val_loss did not improve from 1.61967\n",
      "Epoch 8/30\n",
      "14/14 [==============================] - 8s 597ms/step - loss: 0.7912 - accuracy: 0.9200 - val_loss: 1.0263 - val_accuracy: 0.7300\n",
      "\n",
      "Epoch 00008: val_loss improved from 1.61967 to 1.02634, saving model to D:/파이썬딥러닝/PyImageSearchDeepLearning.vol1/CALTEC/model.weights.best1.hdf5\n",
      "Epoch 9/30\n",
      "14/14 [==============================] - 9s 616ms/step - loss: 0.7297 - accuracy: 0.9152 - val_loss: 2.4238 - val_accuracy: 0.7503\n",
      "\n",
      "Epoch 00009: val_loss did not improve from 1.02634\n",
      "Epoch 10/30\n",
      "14/14 [==============================] - 8s 603ms/step - loss: 0.8864 - accuracy: 0.9116 - val_loss: 5.0719 - val_accuracy: 0.6930\n",
      "\n",
      "Epoch 00010: val_loss did not improve from 1.02634\n",
      "Epoch 11/30\n",
      "14/14 [==============================] - 8s 599ms/step - loss: 0.9505 - accuracy: 0.8925 - val_loss: 4.3937 - val_accuracy: 0.7037\n",
      "\n",
      "Epoch 00011: val_loss did not improve from 1.02634\n",
      "Epoch 12/30\n",
      "14/14 [==============================] - 8s 583ms/step - loss: 0.7221 - accuracy: 0.9044 - val_loss: 1.4847 - val_accuracy: 0.6882\n",
      "\n",
      "Epoch 00012: val_loss did not improve from 1.02634\n",
      "Epoch 13/30\n",
      "14/14 [==============================] - 8s 584ms/step - loss: 0.6639 - accuracy: 0.9462 - val_loss: 0.7732 - val_accuracy: 0.7861\n",
      "\n",
      "Epoch 00013: val_loss improved from 1.02634 to 0.77322, saving model to D:/파이썬딥러닝/PyImageSearchDeepLearning.vol1/CALTEC/model.weights.best1.hdf5\n",
      "Epoch 14/30\n",
      "14/14 [==============================] - 8s 587ms/step - loss: 0.7044 - accuracy: 0.9307 - val_loss: 3.2546 - val_accuracy: 0.8303\n",
      "\n",
      "Epoch 00014: val_loss did not improve from 0.77322\n",
      "Epoch 15/30\n",
      "14/14 [==============================] - 8s 583ms/step - loss: 0.6529 - accuracy: 0.9283 - val_loss: 1.4969 - val_accuracy: 0.7885\n",
      "\n",
      "Epoch 00015: val_loss did not improve from 0.77322\n",
      "Epoch 16/30\n",
      "14/14 [==============================] - 8s 578ms/step - loss: 0.7381 - accuracy: 0.9427 - val_loss: 0.4807 - val_accuracy: 0.8399\n",
      "\n",
      "Epoch 00016: val_loss improved from 0.77322 to 0.48065, saving model to D:/파이썬딥러닝/PyImageSearchDeepLearning.vol1/CALTEC/model.weights.best1.hdf5\n",
      "Epoch 17/30\n",
      "14/14 [==============================] - 8s 575ms/step - loss: 0.9075 - accuracy: 0.8614 - val_loss: 15.3969 - val_accuracy: 0.6667\n",
      "\n",
      "Epoch 00017: val_loss did not improve from 0.48065\n",
      "Epoch 18/30\n",
      "14/14 [==============================] - 9s 627ms/step - loss: 0.7913 - accuracy: 0.8865 - val_loss: 0.5132 - val_accuracy: 0.6225\n",
      "\n",
      "Epoch 00018: val_loss did not improve from 0.48065\n",
      "Epoch 19/30\n",
      "14/14 [==============================] - 9s 624ms/step - loss: 0.6667 - accuracy: 0.9283 - val_loss: 0.5300 - val_accuracy: 0.7563\n",
      "\n",
      "Epoch 00019: val_loss did not improve from 0.48065\n",
      "Epoch 20/30\n",
      "14/14 [==============================] - 8s 598ms/step - loss: 0.6525 - accuracy: 0.9271 - val_loss: 2.2006 - val_accuracy: 0.7348\n",
      "\n",
      "Epoch 00020: val_loss did not improve from 0.48065\n",
      "Epoch 21/30\n",
      "14/14 [==============================] - 8s 580ms/step - loss: 0.7530 - accuracy: 0.9438 - val_loss: 5.5598 - val_accuracy: 0.4612\n",
      "\n",
      "Epoch 00021: val_loss did not improve from 0.48065\n",
      "\n",
      "Epoch 00021: ReduceLROnPlateau reducing learning rate to 0.00020000000949949026.\n",
      "Epoch 22/30\n",
      "14/14 [==============================] - 8s 592ms/step - loss: 0.6267 - accuracy: 0.9271 - val_loss: 4.9559 - val_accuracy: 0.4922\n",
      "\n",
      "Epoch 00022: val_loss did not improve from 0.48065\n",
      "Epoch 23/30\n",
      "14/14 [==============================] - 8s 573ms/step - loss: 0.7463 - accuracy: 0.9510 - val_loss: 1.0185 - val_accuracy: 0.6511\n",
      "\n",
      "Epoch 00023: val_loss did not improve from 0.48065\n",
      "Epoch 24/30\n",
      "14/14 [==============================] - 8s 568ms/step - loss: 0.6205 - accuracy: 0.9427 - val_loss: 3.5350 - val_accuracy: 0.6918\n",
      "\n",
      "Epoch 00024: val_loss did not improve from 0.48065\n",
      "Epoch 25/30\n",
      "14/14 [==============================] - 8s 575ms/step - loss: 0.6256 - accuracy: 0.9498 - val_loss: 2.0913 - val_accuracy: 0.7336\n",
      "\n",
      "Epoch 00025: val_loss did not improve from 0.48065\n",
      "Epoch 26/30\n",
      "14/14 [==============================] - 8s 572ms/step - loss: 0.7470 - accuracy: 0.9307 - val_loss: 0.5110 - val_accuracy: 0.7957\n",
      "\n",
      "Epoch 00026: val_loss did not improve from 0.48065\n",
      "\n",
      "Epoch 00026: ReduceLROnPlateau reducing learning rate to 4.0000001899898055e-05.\n",
      "Epoch 27/30\n",
      "14/14 [==============================] - 8s 574ms/step - loss: 0.5890 - accuracy: 0.9558 - val_loss: 0.4770 - val_accuracy: 0.8280\n",
      "\n",
      "Epoch 00027: val_loss improved from 0.48065 to 0.47703, saving model to D:/파이썬딥러닝/PyImageSearchDeepLearning.vol1/CALTEC/model.weights.best1.hdf5\n",
      "Epoch 28/30\n",
      "14/14 [==============================] - 8s 573ms/step - loss: 0.5740 - accuracy: 0.9546 - val_loss: 0.9279 - val_accuracy: 0.8483\n",
      "\n",
      "Epoch 00028: val_loss did not improve from 0.47703\n",
      "Epoch 29/30\n",
      "14/14 [==============================] - 8s 574ms/step - loss: 0.6024 - accuracy: 0.9510 - val_loss: 0.5110 - val_accuracy: 0.8734\n",
      "\n",
      "Epoch 00029: val_loss did not improve from 0.47703\n",
      "Epoch 30/30\n",
      "14/14 [==============================] - 8s 575ms/step - loss: 0.6071 - accuracy: 0.9510 - val_loss: 0.5350 - val_accuracy: 0.8817\n",
      "\n",
      "Epoch 00030: val_loss did not improve from 0.47703\n",
      "559/559 [==============================] - 1s 2ms/step\n",
      "2 번째 학습을 완료했습니다.\n"
     ]
    },
    {
     "data": {
      "image/png": "[encoded data removed]",
      "text/plain": [
       "<Figure size 432x288 with 1 Axes>"
      ]
     },
     "metadata": {
      "needs_background": "light"
     },
     "output_type": "display_data"
    },
    {
     "data": {
      "image/png": "[encoded data removed]",
      "text/plain": [
       "<Figure size 432x288 with 1 Axes>"
      ]
     },
     "metadata": {
      "needs_background": "light"
     },
     "output_type": "display_data"
    }
   ],
   "source": [
    "from keras.callbacks import ModelCheckpoint\n",
    "from keras.callbacks import ReduceLROnPlateau\n",
    "from keras.callbacks import EarlyStopping\n",
    "import matplotlib\n",
    "\n",
    "result = 0\n",
    "nth = 0\n",
    "accuracy = []\n",
    "reLR = ReduceLROnPlateau(monitor = 'val_loss', patience=4, verbose=1, factor=0.2) #learning rate scheduler\n",
    "es = EarlyStopping(patience=12, verbose=1)\n",
    "max_epoch = 30\n",
    "\n",
    "# split인자값 trainX, trainY \n",
    "# trainX : np_array 형태(1674, 96, 96, 3)\n",
    "# trainY : encoding 한 결과에서 최대값만 추출한 1차원 배열\n",
    "# 각 반복마다 모델을 반환하며, 체크포인트 콜백도 각 반복마다 생성된다.\n",
    "# 각 반복마다 모델 파일에 대해 다른 파일 이름을 지정해야 한다.\n",
    "for train_idx, valid_idx in skf.split(trainX, trainY.argmax(1)) :\n",
    "    \n",
    "    # 가장 훈련 잘된 모델 저장(각 fold마다 1개씩)\n",
    "    checkpointer = ModelCheckpoint(filepath='D:/파이썬딥러닝/PyImageSearchDeepLearning.vol1/CALTEC/model.weights.best'+str(nth)+'.hdf5', verbose = 1, save_best_only=True)\n",
    "    \n",
    "    # trainX의 일부를 train과 validation으로 나눔\n",
    "    x_train = trainX[train_idx]\n",
    "    x_valid = trainX[valid_idx]\n",
    "    # trainY의 일부를 train과 validation으로 나눔\n",
    "    y_train = trainY[train_idx]\n",
    "    y_valid = trainY[valid_idx]\n",
    "    \n",
    "    # generator 적용\n",
    "    train_generator = aug_train.flow(x_train, y_train, batch_size = 64)\n",
    "    valid_generator = aug_test.flow(x_valid,y_valid)\n",
    "    # test는 testX를 인자로 넣어줌\n",
    "    test_generator = aug_test.flow(testX, shuffle=False)\n",
    "    \n",
    "    # 모델 생성\n",
    "    model = StridedNet.build(width=96, height=96, depth=3, classes=len(lb.classes_), reg=l2(0.0005))\n",
    "    \n",
    "    # 모델 컴파일\n",
    "#     opt = Adam(lr=1e-4, decay=1e-4 / 30)\n",
    "    model.compile(loss=\"categorical_crossentropy\", optimizer=Adam(0.001), metrics=[\"accuracy\"])\n",
    "    \n",
    "    # 모델 학습(validation 확인)\n",
    "    learning_history = model.fit_generator(train_generator,epochs=max_epoch, validation_data=valid_generator,callbacks=[es,checkpointer,reLR])\n",
    "\n",
    "    # 가장 훈련 잘된 모델 통해 예측\n",
    "    # predict\n",
    "    model.load_weights('D:/파이썬딥러닝/PyImageSearchDeepLearning.vol1/CALTEC/model.weights.best'+str(nth)+'.hdf5')\n",
    "    \n",
    "    # accuracy(test값으로 예측->가장 높은 값의 모델 사용)\n",
    "    k_accuracy = '%.4f' % (model.evaluate(testX,testY)[1])\n",
    "    accuracy.append(k_accuracy)\n",
    "    \n",
    "    \n",
    "    # save val_loss, val_acc, loss, accuracy(최대값)\n",
    "    hist = pd.DataFrame(learning_history.history)\n",
    "    # 학습 val_loss, val_acc, loss, accuracy (각 fold의 각 epoch마다 저장)\n",
    "    hist.to_csv('D:/파이썬딥러닝/PyImageSearchDeepLearning.vol1/CALTEC/hist_'+str(nth)+'.csv', mode='w')\n",
    "    \n",
    "    # [Train plot] plot the training loss and accuracy\n",
    "    # %matplotlib inline\n",
    "    plt.figure()\n",
    "    plt.plot(np.arange(0, max_epoch), learning_history.history[\"loss\"], label=\"train_loss\")\n",
    "    plt.plot(np.arange(0, max_epoch), learning_history.history[\"val_loss\"], label=\"val_loss\")\n",
    "    plt.plot(np.arange(0, max_epoch), learning_history.history[\"accuracy\"], label=\"train_accuracy\")\n",
    "    plt.plot(np.arange(0, max_epoch), learning_history.history[\"val_accuracy\"], label=\"val_accuracy\")\n",
    "\n",
    "    plt.title(\"Training Loss and Accuracy on Dataset\")\n",
    "    plt.xlabel(\"Epoch #\")\n",
    "    plt.ylabel(\"Loss/Accuracy\")\n",
    "    plt.legend(loc=\"lower left\")\n",
    "    #plt.show()\n",
    "    plt.savefig('D:/파이썬딥러닝/PyImageSearchDeepLearning.vol1/CALTEC/savefig_'+str(nth)+'.png')\n",
    "    \n",
    "    \n",
    "    nth += 1\n",
    "    print(nth, '번째 학습을 완료했습니다.')\n",
    "    "
   ]
  },
  {
   "cell_type": "code",
   "execution_count": 14,
   "metadata": {},
   "outputs": [
    {
     "name": "stdout",
     "output_type": "stream",
     "text": [
      "['0.9696', '0.8301']\n",
      "0.9696\n",
      "0\n"
     ]
    }
   ],
   "source": [
    "# accuracy가 가장 높았던 모델 찾기\n",
    "print(accuracy)\n",
    "print(max(accuracy))\n",
    "print(accuracy.index(max(accuracy)))\n",
    "\n",
    "max_index = accuracy.index(max(accuracy))"
   ]
  },
  {
   "cell_type": "code",
   "execution_count": 15,
   "metadata": {},
   "outputs": [],
   "source": [
    "# accuracy가 가장 높았던 모델 불러오기\n",
    "model.load_weights('D:/파이썬딥러닝/PyImageSearchDeepLearning.vol1/CALTEC/model.weights.best'+str(max_index)+'.hdf5')"
   ]
  },
  {
   "cell_type": "code",
   "execution_count": 16,
   "metadata": {},
   "outputs": [
    {
     "name": "stdout",
     "output_type": "stream",
     "text": [
      "[INFO] evaluating network...\n",
      "              precision    recall  f1-score   support\n",
      "\n",
      "       Faces       0.97      1.00      0.99       109\n",
      "    Leopards       1.00      0.78      0.88        50\n",
      "  Motorbikes       0.98      0.98      0.98       200\n",
      "   airplanes       0.95      0.98      0.97       200\n",
      "\n",
      "    accuracy                           0.97       559\n",
      "   macro avg       0.98      0.94      0.95       559\n",
      "weighted avg       0.97      0.97      0.97       559\n",
      "\n"
     ]
    }
   ],
   "source": [
    "# 모델 평가(test 데이터에 대하여)\n",
    "print(\"[INFO] evaluating network...\")\n",
    "predictions = model.predict(testX, batch_size=64)\n",
    "# precision : 예측 결과 중 참\n",
    "# https://scikit-learn.org/stable/modules/generated/sklearn.metrics.precision_recall_fscore_support.html#sklearn.metrics.precision_recall_fscore_support\n",
    "print(classification_report(testY.argmax(axis=1), predictions.argmax(axis=1), target_names=lb.classes_))"
   ]
  },
  {
   "cell_type": "code",
   "execution_count": 17,
   "metadata": {},
   "outputs": [
    {
     "data": {
      "image/png": "[encoded data removed]",
      "text/plain": [
       "<Figure size 504x504 with 2 Axes>"
      ]
     },
     "metadata": {
      "needs_background": "light"
     },
     "output_type": "display_data"
    }
   ],
   "source": [
    "from sklearn.metrics import classification_report, confusion_matrix\n",
    "import matplotlib.pyplot as plt\n",
    "import seaborn as sns\n",
    "\n",
    "# 혼동 행렬을 만듭니다.\n",
    "plt.figure(figsize = (7, 7))\n",
    "# testX와 testY가 일치한 경우(0,1,2,3 => Label 0, 1, 2, 3)\n",
    "cm = confusion_matrix(testY.argmax(1), predictions.argmax(axis=1))\n",
    "# y_test와 results의 numpy 행렬에서 최고 차수(-1)를 기준으로 비교하여 최고값을 선정.\n",
    "sns.heatmap(cm, annot = True, fmt = 'd',cmap = 'Blues')\n",
    "# sklearn의 데이터를 이용하여 heatmap을 시각화해주는 seaborn의 패키지\n",
    "plt.xlabel('predicted label')\n",
    "plt.ylabel('true label')\n",
    "plt.show()"
   ]
  }
 ],
 "metadata": {
  "kernelspec": {
   "display_name": "test",
   "language": "python",
   "name": "test"
  },
  "language_info": {
   "codemirror_mode": {
    "name": "ipython",
    "version": 3
   },
   "file_extension": ".py",
   "mimetype": "text/x-python",
   "name": "python",
   "nbconvert_exporter": "python",
   "pygments_lexer": "ipython3",
   "version": "3.7.7"
  }
 },
 "nbformat": 4,
 "nbformat_minor": 4
}
