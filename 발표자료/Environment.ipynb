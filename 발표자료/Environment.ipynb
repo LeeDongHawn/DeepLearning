{
 "cells": [
  {
   "cell_type": "markdown",
   "metadata": {},
   "source": [
    "# Ubuntu에서 Pytorch 환경 구축하기(+서버)\n",
    "\n",
    "\n",
    "## 1. Anaconda 설치 및 가상환경 생성\n",
    "https://greedywyatt.tistory.com/107\n",
    "\n",
    "- Your shell has not been properly configured to use 'conda activate' error\n",
    "  - solution : source ~/anaconda3/etc/profile.d/conda.sh\n",
    "  - 위 실행 후 conda activate 가상환경_이름\n",
    "\n",
    "## 2. CUDA 설치\n",
    "https://goodtogreate.tistory.com/entry/2004-%EC%9A%B0%EB%B6%84%ED%88%AC%EA%B8%B0%EB%B0%98-NVIDIA-GeForce-RTX-3090%EC%97%90-CUDA-cuDNN-Pytorch-%EC%84%A4%EC%B9%98\n",
    "https://pinkwink.kr/1339\n",
    "\n",
    "### 2.1 Driver Version 확인 및 CUDA 11.0.2 다운로드\n",
    "- CUDA 11.0 이상은 드라이버가 450 버전 이상이어야 한다.(미리 설치 완료)\n",
    "  - nvidia-smi 명령어로 확인\n",
    "- 일단 Continue\n",
    "- CUDA Driver 체크 해제\n",
    "- 환경변수 설정\n",
    "  - 2번째 사이트 참조\n",
    "- CUDA 설치 확인\n",
    "  - nvcc --version 명령어로 확인\n",
    "\n",
    "- 서버는 CUDA 10.2 version 이미 존재함\n",
    "- 환경변수만 설정해주기\n",
    "\n",
    "### 2.2 Cudnn 8.1.1 다운로드하기\n",
    "- CUDA 11.0과 호환 확인 후 다운로드\n",
    "- 파일 복사 해주기(둘 중 아무 사이트 참조)\n",
    "\n",
    "- 서버는 cuDNN 7.6.5 이미 존재함\n",
    "\n",
    "## 3. Pytorch 설치\n",
    "- https://pytorch.org/get-started/locally/ 에서 CUDA 버전 맞춰서 설치하기\n",
    "\n",
    "## 4. PyCharm 설치\n",
    "- https://www.jetbrains.com/ko-kr/pycharm/download/#section=windows 에서 Community 설치\n",
    "- pycharm 폴더 -> /bin/에서\n",
    "  - ./pycharm.sh\n",
    "- https://sseambong.tistory.com/285\n",
    "  - Anaconda로 구축한 가상환경과 연동시켜주기(경로 default 참조해서 내 경로에 맞게 수정)\n",
    "\n",
    "## 5. multi-gpu tutorial\n",
    "- https://pytorch.org/tutorials/beginner/former_torchies/parallelism_tutorial.html\n",
    "  - GPU 개수 확인\n",
    "- https://github.com/dnddnjs/pytorch-multigpu/tree/master/data_parallel\n",
    "  - 코드 참조(CIFAR_10)\n",
    "\n",
    "```\n",
    "nvidia-smi --query | fgrep 'Product Name'\n",
    "- GPU 정보(GeForce RTX 3080)\n",
    "window nvidia-smi\n",
    "- GPU 할당 상태 확인\n",
    "```\n"
   ]
  },
  {
   "cell_type": "code",
   "execution_count": 2,
   "metadata": {},
   "outputs": [],
   "source": [
    "import torch"
   ]
  },
  {
   "cell_type": "code",
   "execution_count": 3,
   "metadata": {},
   "outputs": [
    {
     "name": "stdout",
     "output_type": "stream",
     "text": [
      "1.7.0\n"
     ]
    }
   ],
   "source": [
    "print(torch.__version__)"
   ]
  },
  {
   "cell_type": "code",
   "execution_count": 4,
   "metadata": {},
   "outputs": [
    {
     "data": {
      "text/plain": [
       "True"
      ]
     },
     "execution_count": 4,
     "metadata": {},
     "output_type": "execute_result"
    }
   ],
   "source": [
    "torch.cuda.is_available()"
   ]
  },
  {
   "cell_type": "code",
   "execution_count": 5,
   "metadata": {},
   "outputs": [
    {
     "data": {
      "text/plain": [
       "'GeForce GTX 960'"
      ]
     },
     "execution_count": 5,
     "metadata": {},
     "output_type": "execute_result"
    }
   ],
   "source": [
    "torch.cuda.get_device_name(0)"
   ]
  }
 ],
 "metadata": {
  "kernelspec": {
   "display_name": "test2",
   "language": "python",
   "name": "test2"
  },
  "language_info": {
   "codemirror_mode": {
    "name": "ipython",
    "version": 3
   },
   "file_extension": ".py",
   "mimetype": "text/x-python",
   "name": "python",
   "nbconvert_exporter": "python",
   "pygments_lexer": "ipython3",
   "version": "3.7.9"
  }
 },
 "nbformat": 4,
 "nbformat_minor": 4
}
