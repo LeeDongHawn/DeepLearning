{
 "cells": [
  {
   "cell_type": "markdown",
   "metadata": {},
   "source": [
    "# 2장 기본 입출력"
   ]
  },
  {
   "cell_type": "code",
   "execution_count": 11,
   "metadata": {},
   "outputs": [],
   "source": [
    "import cv2"
   ]
  },
  {
   "cell_type": "code",
   "execution_count": 12,
   "metadata": {},
   "outputs": [],
   "source": [
    "# 이미지 실행하기\n",
    "img_file = \"girl.jpg\"\n",
    "img = cv2.imread(img_file)\n",
    "img_gray = cv2.imread(img_file, cv2.IMREAD_GRAYSCALE)\n",
    "if img is not None :\n",
    "    cv2.imshow('IMG', img_gray)\n",
    "    cv2.waitKey()\n",
    "    cv2.destroyAllWindows()\n",
    "else :\n",
    "    print('No img file')"
   ]
  },
  {
   "cell_type": "code",
   "execution_count": null,
   "metadata": {},
   "outputs": [],
   "source": [
    "# 이미지 저장하기\n",
    "save_file = 'girl_gray.jpg'\n",
    "cv2.imwrite(save_file, img_gray)"
   ]
  },
  {
   "cell_type": "code",
   "execution_count": 13,
   "metadata": {},
   "outputs": [],
   "source": [
    "# 동영상 읽기\n",
    "video_file = \"big_buck.avi\"\n",
    "\n",
    "cap = cv2.VideoCapture(video_file)\n",
    "if cap.isOpened() :\n",
    "    while True :\n",
    "        ret, img = cap.read()\n",
    "        if ret :\n",
    "            cv2.imshow(video_file, img)\n",
    "            cv2.waitKey(25)\n",
    "        else :\n",
    "            break\n",
    "else :\n",
    "    print(\"can't open video\")\n",
    "cap.release()\n",
    "cv2.destroyAllWindows()"
   ]
  }
 ],
 "metadata": {
  "kernelspec": {
   "display_name": "Python 3",
   "language": "python",
   "name": "python3"
  },
  "language_info": {
   "codemirror_mode": {
    "name": "ipython",
    "version": 3
   },
   "file_extension": ".py",
   "mimetype": "text/x-python",
   "name": "python",
   "nbconvert_exporter": "python",
   "pygments_lexer": "ipython3",
   "version": "3.7.4"
  }
 },
 "nbformat": 4,
 "nbformat_minor": 2
}
