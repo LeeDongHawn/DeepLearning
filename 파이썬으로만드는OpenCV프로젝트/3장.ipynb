{
 "cells": [
  {
   "cell_type": "markdown",
   "metadata": {},
   "source": [
    "# NumPy"
   ]
  },
  {
   "cell_type": "code",
   "execution_count": 11,
   "metadata": {},
   "outputs": [],
   "source": [
    "import cv2\n",
    "import numpy as np"
   ]
  },
  {
   "cell_type": "code",
   "execution_count": 8,
   "metadata": {},
   "outputs": [],
   "source": [
    "img = cv2.imread('blank_500.jpg')"
   ]
  },
  {
   "cell_type": "code",
   "execution_count": 9,
   "metadata": {},
   "outputs": [
    {
     "name": "stdout",
     "output_type": "stream",
     "text": [
      "<class 'numpy.ndarray'>\n",
      "3\n",
      "(500, 500, 3)\n"
     ]
    }
   ],
   "source": [
    "# type\n",
    "print(type(img))\n",
    "# 차원\n",
    "print(img.ndim)\n",
    "# shape(높이 x 폭 x 차원)\n",
    "print(img.shape)"
   ]
  },
  {
   "cell_type": "markdown",
   "metadata": {},
   "source": [
    "# np.empty((2,3)) : 쓰레기 값으로 배열 생성\n",
    "# np.zeros((2,3)) : 0으로 초기화 된 배열 생성\n",
    "# np.ones((2,3)) : 1로 초기화 된 배열 생성\n",
    "# np.full((2,3) , 255) : 특정 값으로 채워진 배열 생성\n",
    "# 배열.fill(255) : 특정 값으로 배열 채우기"
   ]
  },
  {
   "cell_type": "markdown",
   "metadata": {},
   "source": [
    "# np.arange(3, 9, 2) : 마지막 값 제외, 3부터 2씩 증가\n",
    "# np.random.rand(2,3) : 해당 차수에 맞게 무작위 수 생성"
   ]
  },
  {
   "cell_type": "markdown",
   "metadata": {},
   "source": [
    "# 팬시 인덱싱"
   ]
  },
  {
   "cell_type": "code",
   "execution_count": 16,
   "metadata": {},
   "outputs": [
    {
     "name": "stdout",
     "output_type": "stream",
     "text": [
      "a [0 1 2 3 4 5 6 7 8 9]\n",
      "b [False False False False False False  True  True  True  True]\n",
      "a[b] [6 7 8 9]\n",
      "a[a>5] [6 7 8 9]\n"
     ]
    }
   ],
   "source": [
    "a = np.arange(10)\n",
    "print(\"a\",a)\n",
    "b = a>5\n",
    "print(\"b\",b)\n",
    "print(\"a[b]\",a[b])\n",
    "print(\"a[a>5]\",a[a>5])"
   ]
  },
  {
   "cell_type": "markdown",
   "metadata": {},
   "source": [
    "# np.hstack((배열a,배열b)) : 배열을 수평으로 병합\n",
    "# np.vstack((배열a,배열b)) : 배열을 수직으로 병합\n",
    "# np.concatenate((배열a,배열b) , axis = ) : 배열을 원하는 축 기준 병합\n",
    "# np.hsplit(배열a, indice) : 배열을 수평으로 indice 개수 만큼 분리\n",
    "# np.vsplit(배열a, indice) : 배열을 수직으로 indice 개수 만큼 분리\n",
    "# np.split(배열a, indice, axis= ) :배열을 원하는 축으로 분리"
   ]
  },
  {
   "cell_type": "markdown",
   "metadata": {},
   "source": [
    "# np.where(배열 조건) : 배열에서 조건에 맞는 것 찾음\n",
    "# np.where(배열 조건, 해당, 비해당) : 조건에 맞으면 해당 값으로 채우고 아니면 비해당 값으로 채움\n",
    "# np.nonzero(배열) : 배열에서 0이 아닌 요소의 index 반환\n",
    "# np.all(배열a == 배열b)   -> np.where(a != b)"
   ]
  },
  {
   "cell_type": "code",
   "execution_count": 17,
   "metadata": {},
   "outputs": [],
   "source": [
    "img = np.zeros((120,120), dtype=np.uint8)\n",
    "img[25:35, : ] = 45\n",
    "img[55:65, : ] = 115\n",
    "img[85:95, : ] = 160\n",
    "img[:, 35:45] = 205\n",
    "img[:, 75:85] = 255\n",
    "cv2.imshow('Gray', img)\n",
    "cv2.waitKey(0)\n",
    "cv2.destroyAllWindows()"
   ]
  }
 ],
 "metadata": {
  "kernelspec": {
   "display_name": "Python 3",
   "language": "python",
   "name": "python3"
  },
  "language_info": {
   "codemirror_mode": {
    "name": "ipython",
    "version": 3
   },
   "file_extension": ".py",
   "mimetype": "text/x-python",
   "name": "python",
   "nbconvert_exporter": "python",
   "pygments_lexer": "ipython3",
   "version": "3.7.4"
  }
 },
 "nbformat": 4,
 "nbformat_minor": 2
}
