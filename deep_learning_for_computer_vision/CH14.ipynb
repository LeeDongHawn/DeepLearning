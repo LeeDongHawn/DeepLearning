{
 "cells": [
  {
   "cell_type": "markdown",
   "metadata": {},
   "source": [
    "# ImageNet Dataset\n",
    "## - ImageNet is a large dataset of annotated photographs intended for computer vision research.\n",
    "## - The goal of developing the dataset was to provide a resource to promote the research and development of improved methods for computer vision."
   ]
  },
  {
   "cell_type": "markdown",
   "metadata": {},
   "source": [
    "# ImageNet Large Scale Visual Recognition Challenge(ILSVRC)\n",
    "## - ILSVRC is an annual computer vision competition held in which challenge tasks use subsets of the ImageNet dataset.\n",
    "## - The goal of the challenge was to both promote the development of better computer vision techniques and to benchmark the state-of-the-art.\n",
    "### - Image classification\n",
    "### - Single-object localization\n",
    "### - Object detection"
   ]
  },
  {
   "cell_type": "markdown",
   "metadata": {},
   "source": [
    "# ILSVRCC-2012\n",
    "## AlexLet\n",
    "# ILSVRCC-2013\n",
    "## ZFNet\n",
    "# ILSVRCC-2014\n",
    "## Inception(GoogLeNet)\n",
    "## VGG\n",
    "# ILSVRCC-2015\n",
    "## ResNet\n"
   ]
  }
 ],
 "metadata": {
  "kernelspec": {
   "display_name": "Python 3",
   "language": "python",
   "name": "python3"
  },
  "language_info": {
   "codemirror_mode": {
    "name": "ipython",
    "version": 3
   },
   "file_extension": ".py",
   "mimetype": "text/x-python",
   "name": "python",
   "nbconvert_exporter": "python",
   "pygments_lexer": "ipython3",
   "version": "3.7.4"
  }
 },
 "nbformat": 4,
 "nbformat_minor": 2
}
