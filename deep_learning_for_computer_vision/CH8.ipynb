{
 "cells": [
  {
   "cell_type": "markdown",
   "metadata": {},
   "source": [
    "# Data Structure\n",
    "* data/train/blue/\n",
    "* data/train/red/\n",
    "* data/test/blue/\n",
    "* data/test/red/\n",
    "* data/validation/blue/\n",
    "* data/validation/red/"
   ]
  },
  {
   "cell_type": "markdown",
   "metadata": {},
   "source": [
    "# How to Progressively Load Images"
   ]
  },
  {
   "cell_type": "code",
   "execution_count": 2,
   "metadata": {},
   "outputs": [
    {
     "name": "stdout",
     "output_type": "stream",
     "text": [
      "Found 2 images belonging to 3 classes.\n",
      "Found 2 images belonging to 3 classes.\n",
      "Found 2 images belonging to 3 classes.\n",
      "<keras.preprocessing.image.DirectoryIterator object at 0x000001DE8D062B48>\n",
      "Batch shape=(2, 256, 256, 3), min=0.000, max=255.000\n"
     ]
    }
   ],
   "source": [
    "from keras.preprocessing.image import ImageDataGenerator\n",
    "# DataGenerator 생성 ()안에 이미지 전처리 조건 \n",
    "datagen = ImageDataGenerator()\n",
    "# 폴더에 있는 데이터 들을 binary로 읽어들인다.\n",
    "train_it = datagen.flow_from_directory('data/train/', class_mode='binary')\n",
    "val_it = datagen.flow_from_directory('data/validation/', class_mode='binary')\n",
    "test_it = datagen.flow_from_directory('data/test/', class_mode='binary')\n",
    "# batch default는 32로, 이 말은 한 번에 32개의 이미지를 랜덤으로 선택해서 가져온다는 것을 의미한다.\n",
    "batchX, batchy = train_it.next()\n",
    "print('Batch shape=%s, min=%.3f, max=%.3f' % (batchX.shape, batchX.min(), batchX.max()))"
   ]
  }
 ],
 "metadata": {
  "kernelspec": {
   "display_name": "Python 3",
   "language": "python",
   "name": "python3"
  },
  "language_info": {
   "codemirror_mode": {
    "name": "ipython",
    "version": 3
   },
   "file_extension": ".py",
   "mimetype": "text/x-python",
   "name": "python",
   "nbconvert_exporter": "python",
   "pygments_lexer": "ipython3",
   "version": "3.7.4"
  }
 },
 "nbformat": 4,
 "nbformat_minor": 2
}
