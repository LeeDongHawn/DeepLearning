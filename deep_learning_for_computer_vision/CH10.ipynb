{
 "cells": [
  {
   "cell_type": "markdown",
   "metadata": {},
   "source": [
    "# Channel\n",
    "## last order : [rows][cols][channels] , TensorFlow, CNTK\n",
    "## first order : [channels][rows][cols] , Theano"
   ]
  },
  {
   "cell_type": "code",
   "execution_count": 1,
   "metadata": {},
   "outputs": [
    {
     "name": "stdout",
     "output_type": "stream",
     "text": [
      "(424, 640)\n",
      "(1, 424, 640)\n",
      "(424, 640, 1)\n"
     ]
    }
   ],
   "source": [
    "# example of expanding dimensions\n",
    "from numpy import expand_dims\n",
    "from numpy import asarray\n",
    "from PIL import Image\n",
    "# load the image\n",
    "img = Image.open('penguin_parade.jpg')\n",
    "# 이미지를 gray scale로 변환한다.gray scale : ([rows][cols])\n",
    "img = img.convert(mode='L')\n",
    "# 연산을 위해 numpy array로 변환한다.\n",
    "data = asarray(img)\n",
    "print(data.shape)\n",
    "# expand해서 채널을 추가해준다.(맨 앞에)\n",
    "data_first = expand_dims(data, axis=0)\n",
    "print(data_first.shape)\n",
    "# expand해서 채널을 추가해준다. (맨 뒤에)\n",
    "data_last = expand_dims(data, axis=2)\n",
    "print(data_last.shape)"
   ]
  },
  {
   "cell_type": "code",
   "execution_count": 7,
   "metadata": {},
   "outputs": [
    {
     "name": "stdout",
     "output_type": "stream",
     "text": [
      "(424, 640, 3)\n",
      "(3, 424, 640)\n",
      "(424, 640, 3)\n"
     ]
    }
   ],
   "source": [
    "# change image from channels last to channels first format\n",
    "from numpy import moveaxis\n",
    "from numpy import asarray\n",
    "from PIL import Image\n",
    "# load the color image\n",
    "img = Image.open('penguin_parade.jpg')\n",
    "# convert to numpy array\n",
    "data = asarray(img)\n",
    "# color image : [rows][cols][channels]\n",
    "print(data.shape)\n",
    "# 채널을 맨 앞으로 옮긴다. (first order)\n",
    "data = moveaxis(data, 2, 0)\n",
    "print(data.shape)\n",
    "# 채널을 맨 뒤로 옮긴다. (last order)\n",
    "data = moveaxis(data, 0, 2)\n",
    "print(data.shape)"
   ]
  },
  {
   "cell_type": "markdown",
   "metadata": {},
   "source": [
    "## Keras에서 channel order 변경하기"
   ]
  },
  {
   "cell_type": "code",
   "execution_count": 5,
   "metadata": {},
   "outputs": [
    {
     "name": "stdout",
     "output_type": "stream",
     "text": [
      "channels_last\n"
     ]
    }
   ],
   "source": [
    "# show preferred channel order\n",
    "from keras import backend\n",
    "print(backend.image_data_format())"
   ]
  },
  {
   "cell_type": "code",
   "execution_count": 6,
   "metadata": {},
   "outputs": [
    {
     "name": "stdout",
     "output_type": "stream",
     "text": [
      "channels_first\n",
      "channels_last\n"
     ]
    }
   ],
   "source": [
    "# force a channel ordering\n",
    "from keras import backend\n",
    "# force channels-first ordering\n",
    "backend.set_image_data_format('channels_first')\n",
    "print(backend.image_data_format())\n",
    "# force channels-last ordering\n",
    "backend.set_image_data_format('channels_last')\n",
    "print(backend.image_data_format())"
   ]
  }
 ],
 "metadata": {
  "kernelspec": {
   "display_name": "Python 3",
   "language": "python",
   "name": "python3"
  },
  "language_info": {
   "codemirror_mode": {
    "name": "ipython",
    "version": 3
   },
   "file_extension": ".py",
   "mimetype": "text/x-python",
   "name": "python",
   "nbconvert_exporter": "python",
   "pygments_lexer": "ipython3",
   "version": "3.7.4"
  }
 },
 "nbformat": 4,
 "nbformat_minor": 2
}
