{
 "cells": [
  {
   "cell_type": "code",
   "execution_count": 1,
   "metadata": {},
   "outputs": [
    {
     "name": "stderr",
     "output_type": "stream",
     "text": [
      "Using TensorFlow backend.\n"
     ]
    },
    {
     "name": "stdout",
     "output_type": "stream",
     "text": [
      "Model: \"sequential_1\"\n",
      "_________________________________________________________________\n",
      "Layer (type)                 Output Shape              Param #   \n",
      "=================================================================\n",
      "conv2d_1 (Conv2D)            (None, 6, 6, 1)           10        \n",
      "=================================================================\n",
      "Total params: 10\n",
      "Trainable params: 10\n",
      "Non-trainable params: 0\n",
      "_________________________________________________________________\n",
      "WARNING:tensorflow:From C:\\Users\\User\\Anaconda3\\lib\\site-packages\\keras\\backend\\tensorflow_backend.py:422: The name tf.global_variables is deprecated. Please use tf.compat.v1.global_variables instead.\n",
      "\n",
      "[0.0, 0.0, 3.0, 3.0, 0.0, 0.0]\n",
      "[0.0, 0.0, 3.0, 3.0, 0.0, 0.0]\n",
      "[0.0, 0.0, 3.0, 3.0, 0.0, 0.0]\n",
      "[0.0, 0.0, 3.0, 3.0, 0.0, 0.0]\n",
      "[0.0, 0.0, 3.0, 3.0, 0.0, 0.0]\n",
      "[0.0, 0.0, 3.0, 3.0, 0.0, 0.0]\n"
     ]
    }
   ],
   "source": [
    "from numpy import asarray\n",
    "from keras.models import Sequential\n",
    "from keras.layers import Conv2D\n",
    "# define input data\n",
    "data = [[0, 0, 0, 1, 1, 0, 0, 0],\n",
    "\t\t[0, 0, 0, 1, 1, 0, 0, 0],\n",
    "\t\t[0, 0, 0, 1, 1, 0, 0, 0],\n",
    "\t\t[0, 0, 0, 1, 1, 0, 0, 0],\n",
    "\t\t[0, 0, 0, 1, 1, 0, 0, 0],\n",
    "\t\t[0, 0, 0, 1, 1, 0, 0, 0],\n",
    "\t\t[0, 0, 0, 1, 1, 0, 0, 0],\n",
    "\t\t[0, 0, 0, 1, 1, 0, 0, 0]]\n",
    "data = asarray(data)\n",
    "# keras 2D convolutional layer는 반드시 4D 여야 한다.\n",
    "# raw data를 sampels(n개 이미지), rows,cols(이미지사이즈),channel(=depth)로 reshape함\n",
    "data = data.reshape(1, 8, 8, 1)\n",
    "# 모델 생성\n",
    "model = Sequential()\n",
    "# Convolution Layer 생성(필터의 개수, 커널(행,열), 입력 형태(행,열,채널 수))\n",
    "model.add(Conv2D(1, (3,3), input_shape=(8, 8, 1)))\n",
    "# 모델 요약해서 보여줌\n",
    "model.summary()\n",
    "# define a vertical line detector\n",
    "detector = [[[[0]],[[1]],[[0]]],\n",
    "            [[[0]],[[1]],[[0]]],\n",
    "            [[[0]],[[1]],[[0]]]]\n",
    "weights = [asarray(detector), asarray([0.0])]\n",
    "# 모델에 weight 지정\n",
    "model.set_weights(weights)\n",
    "# 입력 데이터에 대해 predict\n",
    "yhat = model.predict(data)\n",
    "# enumerate rows\n",
    "for r in range(yhat.shape[1]):\n",
    "\t# print each column in the row\n",
    "\tprint([yhat[0,r,c,0] for c in range(yhat.shape[2])])"
   ]
  },
  {
   "cell_type": "markdown",
   "metadata": {},
   "source": [
    "# Problem of Border Effects\n",
    "## 결과 size가 계속 감소(필터=kernel 사이즈에 영향받음)\n",
    "## Input : nxn, filter : kxk 일 때\n",
    "## output = (n-k)/stride + 1"
   ]
  },
  {
   "cell_type": "code",
   "execution_count": 2,
   "metadata": {},
   "outputs": [
    {
     "name": "stdout",
     "output_type": "stream",
     "text": [
      "Model: \"sequential_2\"\n",
      "_________________________________________________________________\n",
      "Layer (type)                 Output Shape              Param #   \n",
      "=================================================================\n",
      "conv2d_2 (Conv2D)            (None, 6, 6, 1)           10        \n",
      "_________________________________________________________________\n",
      "conv2d_3 (Conv2D)            (None, 4, 4, 1)           10        \n",
      "=================================================================\n",
      "Total params: 20\n",
      "Trainable params: 20\n",
      "Non-trainable params: 0\n",
      "_________________________________________________________________\n",
      "[-1.5420611, 0.72519034, 5.320721, 3.0534697]\n",
      "[-1.5420611, 0.72519034, 5.320721, 3.0534697]\n",
      "[-1.5420611, 0.72519034, 5.320721, 3.0534697]\n",
      "[-1.5420611, 0.72519034, 5.320721, 3.0534697]\n"
     ]
    }
   ],
   "source": [
    "# 2층 layer 생성하기\n",
    "from numpy import asarray\n",
    "from keras.models import Sequential\n",
    "from keras.layers import Conv2D\n",
    "# define input data\n",
    "data = [[0, 0, 0, 1, 1, 0, 0, 0],\n",
    "\t\t[0, 0, 0, 1, 1, 0, 0, 0],\n",
    "\t\t[0, 0, 0, 1, 1, 0, 0, 0],\n",
    "\t\t[0, 0, 0, 1, 1, 0, 0, 0],\n",
    "\t\t[0, 0, 0, 1, 1, 0, 0, 0],\n",
    "\t\t[0, 0, 0, 1, 1, 0, 0, 0],\n",
    "\t\t[0, 0, 0, 1, 1, 0, 0, 0],\n",
    "\t\t[0, 0, 0, 1, 1, 0, 0, 0]]\n",
    "data = asarray(data)\n",
    "# keras 2D convolutional layer는 반드시 4D 여야 한다.\n",
    "# raw data를 sampels(n개 이미지), rows,cols(이미지사이즈),channel(=depth)로 reshape함\n",
    "data = data.reshape(1, 8, 8, 1)\n",
    "# 모델 생성\n",
    "model = Sequential()\n",
    "# Convolution Layer 생성(필터의 개수, 커널(행,열), 입력 형태(행,열,채널 수))\n",
    "model.add(Conv2D(1, (3,3), input_shape=(8, 8, 1)))\n",
    "model.add(Conv2D(1, (3,3)))\n",
    "# 모델 요약해서 보여줌\n",
    "model.summary()\n",
    "# define a vertical line detector\n",
    "detector = [[[[0]],[[1]],[[0]]],\n",
    "            [[[0]],[[1]],[[0]]],\n",
    "            [[[0]],[[1]],[[0]]]]\n",
    "weights = [asarray(detector), asarray([0.0])]\n",
    "# 모델에 weight 지정\n",
    "model.set_weights(weights)\n",
    "# 입력 데이터에 대해 predict\n",
    "yhat = model.predict(data)\n",
    "# enumerate rows\n",
    "for r in range(yhat.shape[1]):\n",
    "\t# print each column in the row\n",
    "\tprint([yhat[0,r,c,0] for c in range(yhat.shape[2])])"
   ]
  },
  {
   "cell_type": "markdown",
   "metadata": {},
   "source": [
    "# Fix the Border Effect Problem\n",
    "## Padding을 통해 해결(padding='same', 입력과 출력 이미지 크기 동일)"
   ]
  },
  {
   "cell_type": "code",
   "execution_count": 3,
   "metadata": {},
   "outputs": [
    {
     "name": "stdout",
     "output_type": "stream",
     "text": [
      "Model: \"sequential_2\"\n",
      "_________________________________________________________________\n",
      "Layer (type)                 Output Shape              Param #   \n",
      "=================================================================\n",
      "conv2d_3 (Conv2D)            (None, 8, 8, 1)           10        \n",
      "_________________________________________________________________\n",
      "conv2d_4 (Conv2D)            (None, 8, 8, 1)           10        \n",
      "=================================================================\n",
      "Total params: 20\n",
      "Trainable params: 20\n",
      "Non-trainable params: 0\n",
      "_________________________________________________________________\n",
      "[0.0, 0.0, 1.7829355, 2.313548, 1.9526949, 1.4220822, 0.0, 0.0]\n",
      "[0.0, 0.0, 1.8351326, 1.2036252, 0.18570906, 0.81721634, 0.0, 0.0]\n",
      "[0.0, 0.0, 1.772457, 0.60388786, -0.90550965, 0.26305962, 0.0, 0.0]\n",
      "[0.0, 0.0, 1.772457, 0.60388786, -0.90550965, 0.26305962, 0.0, 0.0]\n",
      "[0.0, 0.0, 1.772457, 0.60388786, -0.90550965, 0.26305962, 0.0, 0.0]\n",
      "[0.0, 0.0, 1.772457, 0.60388786, -0.90550965, 0.26305962, 0.0, 0.0]\n",
      "[0.0, 0.0, 1.2965108, -0.10759342, -1.2794404, 0.12466395, 0.0, 0.0]\n",
      "[0.0, 0.0, 0.16706997, -1.6201081, -2.4427533, -0.65557504, 0.0, 0.0]\n"
     ]
    }
   ],
   "source": [
    "# Padding 적용하기\n",
    "from numpy import asarray\n",
    "from keras.models import Sequential\n",
    "from keras.layers import Conv2D\n",
    "# define input data\n",
    "data = [[0, 0, 0, 1, 1, 0, 0, 0],\n",
    "\t\t[0, 0, 0, 1, 1, 0, 0, 0],\n",
    "\t\t[0, 0, 0, 1, 1, 0, 0, 0],\n",
    "\t\t[0, 0, 0, 1, 1, 0, 0, 0],\n",
    "\t\t[0, 0, 0, 1, 1, 0, 0, 0],\n",
    "\t\t[0, 0, 0, 1, 1, 0, 0, 0],\n",
    "\t\t[0, 0, 0, 1, 1, 0, 0, 0],\n",
    "\t\t[0, 0, 0, 1, 1, 0, 0, 0]]\n",
    "data = asarray(data)\n",
    "# keras 2D convolutional layer는 반드시 4D 여야 한다.\n",
    "# raw data를 sampels(n개 이미지), rows,cols(이미지사이즈),channel(=depth)로 reshape함\n",
    "data = data.reshape(1, 8, 8, 1)\n",
    "# 모델 생성\n",
    "model = Sequential()\n",
    "# Convolution Layer 생성(필터의 개수, 커널(행,열), 입력 형태(행,열,채널 수))\n",
    "model.add(Conv2D(1, (3,3), padding = 'same', input_shape=(8, 8, 1)))\n",
    "model.add(Conv2D(1, (3,3), padding = 'same'))\n",
    "# 모델 요약해서 보여줌\n",
    "model.summary()\n",
    "# define a vertical line detector\n",
    "detector = [[[[0]],[[1]],[[0]]],\n",
    "            [[[0]],[[1]],[[0]]],\n",
    "            [[[0]],[[1]],[[0]]]]\n",
    "weights = [asarray(detector), asarray([0.0])]\n",
    "# 모델에 weight 지정\n",
    "model.set_weights(weights)\n",
    "# 입력 데이터에 대해 predict\n",
    "yhat = model.predict(data)\n",
    "# enumerate rows\n",
    "for r in range(yhat.shape[1]):\n",
    "\t# print each column in the row\n",
    "\tprint([yhat[0,r,c,0] for c in range(yhat.shape[2])])"
   ]
  }
 ],
 "metadata": {
  "kernelspec": {
   "display_name": "Python 3",
   "language": "python",
   "name": "python3"
  },
  "language_info": {
   "codemirror_mode": {
    "name": "ipython",
    "version": 3
   },
   "file_extension": ".py",
   "mimetype": "text/x-python",
   "name": "python",
   "nbconvert_exporter": "python",
   "pygments_lexer": "ipython3",
   "version": "3.7.4"
  }
 },
 "nbformat": 4,
 "nbformat_minor": 2
}
